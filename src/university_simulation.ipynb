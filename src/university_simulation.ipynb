{
 "cells": [
  {
   "cell_type": "code",
   "execution_count": 1,
   "id": "3fed3b2e",
   "metadata": {
    "tags": []
   },
   "outputs": [],
   "source": [
    "import numpy as np"
   ]
  },
  {
   "cell_type": "code",
   "execution_count": 2,
   "id": "1eef5cb1",
   "metadata": {
    "tags": []
   },
   "outputs": [],
   "source": [
    "class ApplicationSimulator:\n",
    "    def __init__(self, n_schools: int):\n",
    "        self.n_schools = n_schools\n",
    "        print(\"Initialised with \", n_schools, \"schools\")\n",
    "    def generate_applications(self, n_students: int):\n",
    "        pass\n",
    "    def generate_decisions(self):\n",
    "        pass\n",
    "    def generate_data(self, n_students: int):\n",
    "        self.generate_applications(n_students)\n",
    "        self.generate_decisions()\n",
    "        return self.application, self.decision\n"
   ]
  },
  {
   "cell_type": "code",
   "execution_count": 3,
   "id": "61910c26",
   "metadata": {
    "tags": []
   },
   "outputs": [],
   "source": [
    "# In this model, everything is independent\n",
    "# The students apply to schools independently \n",
    "class CompletelyIndependentApplication(ApplicationSimulator):\n",
    "    def __init__(self, n_schools: int):\n",
    "        super().__init__(n_schools)\n",
    "        self.application_probability = np.random.dirichlet(np.ones(self.n_schools))\n",
    "        print(\"Student apply with these probabilities:\", self.application_probability)\n",
    "        self.acceptance_probability = np.random.uniform(size = self.n_schools)\n",
    "        print(\"Each school accepts students these probabilities:\", self.acceptance_probability)\n",
    "    def generate_applications(self, n_students: int):\n",
    "        self.n_students = n_students\n",
    "        self.application = np.zeros(n_students)\n",
    "        for s in range(self.n_students):\n",
    "            self.application[s] = np.random.choice(self.n_schools, p=self.application_probability)\n",
    "    def generate_decisions(self):\n",
    "        n_students = len(self.application)\n",
    "        self.decision = np.zeros(n_students)\n",
    "        for s in range(n_students):\n",
    "            school = int(self.application[s])\n",
    "            p = self.acceptance_probability[school]\n",
    "            print(school)\n",
    "            d = np.random.choice(2, p = [1 - p, p])\n",
    "            self.decision[s] = d\n"
   ]
  },
  {
   "cell_type": "code",
   "execution_count": 50,
   "id": "37f51e55",
   "metadata": {},
   "outputs": [
    {
     "name": "stdout",
     "output_type": "stream",
     "text": [
      "Initialised with  3 schools\n",
      "Student apply with these probabilities: [0.07863284 0.62426635 0.29710081]\n",
      "Each school accepts students these probabilities: [0.30233537 0.38497953 0.24272126]\n",
      "1\n",
      "1\n",
      "1\n",
      "2\n",
      "1\n",
      "1\n",
      "1\n",
      "2\n",
      "1\n",
      "1\n",
      "[1. 1. 1. 2. 1. 1. 1. 2. 1. 1.] [0. 0. 1. 1. 0. 1. 0. 1. 0. 0.]\n"
     ]
    }
   ],
   "source": [
    "test = CompletelyIndependentApplication(3)\n",
    "applications, decisions = test.generate_data(10)\n",
    "print(applications, decisions)"
   ]
  },
  {
   "cell_type": "code",
   "execution_count": 53,
   "id": "0a9d2160-4a75-44b9-8029-b69ae2898ef6",
   "metadata": {},
   "outputs": [
    {
     "name": "stdout",
     "output_type": "stream",
     "text": [
      "Initialised with  3 schools\n",
      "Student apply with these probabilities: [0.05169466 0.69216342 0.25614192] [0.47384631 0.08933192 0.43682177]\n",
      "Each school accepts students these probabilities: [0.08385708 0.90518919 0.17753453]\n",
      "2\n",
      "2\n",
      "2\n",
      "2\n",
      "2\n",
      "0\n",
      "2\n",
      "0\n",
      "1\n",
      "2\n"
     ]
    },
    {
     "data": {
      "text/plain": [
       "(array([2., 2., 2., 2., 2., 0., 2., 0., 1., 2.]),\n",
       " array([1., 0., 0., 0., 0., 0., 0., 0., 1., 0.]))"
      ]
     },
     "execution_count": 53,
     "metadata": {},
     "output_type": "execute_result"
    }
   ],
   "source": [
    "# In this model, everything is independent\n",
    "# The students apply to schools independently \n",
    "class GenderDependentApplication(ApplicationSimulator):\n",
    "    def __init__(self, n_schools: int):\n",
    "        super().__init__(n_schools)\n",
    "        self.application_probability_male = np.random.dirichlet(np.ones(self.n_schools))\n",
    "        self.application_probability_female = np.random.dirichlet(np.ones(self.n_schools))\n",
    "        print(\"Student apply with these probabilities:\",\n",
    "              self.application_probability_male,\n",
    "              self.application_probability_female)\n",
    "        self.acceptance_probability = np.random.uniform(size = self.n_schools)\n",
    "        print(\"Each school accepts students these probabilities:\", self.acceptance_probability)\n",
    "    def generate_applications(self, n_students: int):\n",
    "        self.gender = np.random.choice(2, size = n_students)\n",
    "        self.application = np.zeros(n_students)\n",
    "        for s in range(n_students):\n",
    "            if (self.gender[s]==0):\n",
    "                self.application[s] = np.random.choice(self.n_schools, p=self.application_probability_male)\n",
    "            else:\n",
    "                self.application[s] = np.random.choice(self.n_schools, p=self.application_probability_female)\n",
    "    def generate_decisions(self):\n",
    "        n_students = len(self.application)\n",
    "        self.decision = np.zeros(n_students)\n",
    "        for s in range(n_students):\n",
    "            school = int(self.application[s])\n",
    "            p = self.acceptance_probability[school]\n",
    "            print(school)\n",
    "            d = np.random.choice(2, p = [1 - p, p])\n",
    "            self.decision[s] = d\n",
    "test = GenderDependentApplication(3)\n",
    "test.generate_data(10)"
   ]
  },
  {
   "cell_type": "code",
   "execution_count": 59,
   "id": "8d0fa1bf-b20d-442d-933e-b743f2e529e7",
   "metadata": {},
   "outputs": [
    {
     "name": "stdout",
     "output_type": "stream",
     "text": [
      "Initialised with  3 schools\n",
      "Student apply with these probabilities: [0.36066168 0.21538529 0.42395303] [0.42028408 0.53875249 0.04096343]\n",
      "Each school accepts students these probabilities: [0.11959595 0.36897535 0.99385479] [0.08732052 0.88390126 0.49654598]\n",
      "1\n",
      "1\n",
      "0\n",
      "0\n",
      "0\n",
      "2\n",
      "1\n",
      "1\n",
      "0\n",
      "2\n"
     ]
    },
    {
     "data": {
      "text/plain": [
       "(array([1., 1., 0., 0., 0., 2., 1., 1., 0., 2.]),\n",
       " array([1., 1., 0., 1., 0., 1., 1., 1., 0., 1.]))"
      ]
     },
     "execution_count": 59,
     "metadata": {},
     "output_type": "execute_result"
    }
   ],
   "source": [
    "# In this model, everything is independent\n",
    "# The students apply to schools independently \n",
    "class DependentApplication(ApplicationSimulator):\n",
    "    def __init__(self, n_schools: int):\n",
    "        super().__init__(n_schools)\n",
    "        self.application_probability_male = np.random.dirichlet(np.ones(self.n_schools))\n",
    "        self.application_probability_female = np.random.dirichlet(np.ones(self.n_schools))\n",
    "        print(\"Student apply with these probabilities:\",\n",
    "              self.application_probability_male,\n",
    "              self.application_probability_female)\n",
    "        self.acceptance_probability_male= np.random.uniform(size = self.n_schools)\n",
    "        self.acceptance_probability_female = np.random.uniform(size = self.n_schools)\n",
    "        print(\"Each school accepts students these probabilities:\", \n",
    "              self.acceptance_probability_male,\n",
    "                self.acceptance_probability_female)\n",
    "\n",
    "    def generate_applications(self, n_students: int):\n",
    "        self.gender = np.random.choice(2, size = n_students)\n",
    "        self.application = np.zeros(n_students)\n",
    "        for s in range(n_students):\n",
    "            if (self.gender[s]==0):\n",
    "                self.application[s] = np.random.choice(self.n_schools, p=self.application_probability_male)\n",
    "            else:\n",
    "                self.application[s] = np.random.choice(self.n_schools, p=self.application_probability_female)\n",
    "    def generate_decisions(self):\n",
    "        n_students = len(self.application)\n",
    "        self.decision = np.zeros(n_students)\n",
    "        for s in range(n_students):\n",
    "            school = int(self.application[s])\n",
    "            if (self.gender[s]==0):\n",
    "                p = self.acceptance_probability_male[school]\n",
    "            else:\n",
    "                p = self.acceptance_probability_female[school]\n",
    "            print(school)\n",
    "            d = np.random.choice(2, p = [1 - p, p])\n",
    "            self.decision[s] = d\n",
    "test = DependentApplication(3)\n",
    "test.generate_data(10)"
   ]
  },
  {
   "cell_type": "code",
   "execution_count": 68,
   "id": "3e4f6434-9d8f-4185-9b83-8ca64de086f3",
   "metadata": {},
   "outputs": [
    {
     "name": "stdout",
     "output_type": "stream",
     "text": [
      "Initialised with  3 schools\n",
      "Student apply with these probabilities: [0.27280212 0.07638029 0.65081759] [0.42975929 0.13928883 0.43095188]\n",
      "Each school accepts students these thresholds: [0.40696758 1.86393788 3.64350478]\n",
      "Grades: [2. 2. 2. 2. 2. 2. 2. 2. 4. 2.]\n"
     ]
    },
    {
     "data": {
      "text/plain": [
       "(array([2., 2., 2., 2., 2., 0., 1., 0., 0., 0.]),\n",
       " array([0., 0., 0., 0., 0., 1., 1., 1., 1., 1.]))"
      ]
     },
     "execution_count": 68,
     "metadata": {},
     "output_type": "execute_result"
    }
   ],
   "source": [
    "# Here the students get a grade, dependent on the gender\n",
    "# Then the outcome also depends on the grade\n",
    "class GradeDependentApplication(ApplicationSimulator):\n",
    "    def __init__(self, n_schools: int):\n",
    "        super().__init__(n_schools)\n",
    "        self.application_probability_male = np.random.dirichlet(np.ones(self.n_schools))\n",
    "        self.application_probability_female = np.random.dirichlet(np.ones(self.n_schools))\n",
    "        print(\"Student apply with these probabilities:\",\n",
    "              self.application_probability_male,\n",
    "              self.application_probability_female)\n",
    "        self.acceptance_threshold = np.random.uniform(size = self.n_schools)*4\n",
    "        print(\"Each school accepts students these thresholds:\", self.acceptance_threshold)\n",
    "    def generate_applications(self, n_students: int):\n",
    "        self.gender = np.random.choice(2, size = n_students)\n",
    "        self.application = np.zeros(n_students)\n",
    "        self.grade = np.zeros(n_students)\n",
    "        for s in range(n_students):\n",
    "            if (self.gender[s]==0):\n",
    "                self.application[s] = np.random.choice(self.n_schools, p=self.application_probability_male)\n",
    "                self.grade[s] = np.random.choice(5, p=[0.1, 0.2, 0.3, 0.2, 0.2])\n",
    "            else:\n",
    "                self.application[s] = np.random.choice(self.n_schools, p=self.application_probability_female)\n",
    "                self.grade[s] = np.random.choice(5, p=[0.1, 0.1, 0.25, 0.3, 0.25])\n",
    "        print(\"Grades:\", self.grade)\n",
    "        \n",
    "    def generate_decisions(self):\n",
    "        n_students = len(self.application)\n",
    "        self.decision = np.zeros(n_students)\n",
    "        for s in range(n_students):\n",
    "            school = int(self.application[s])\n",
    "            if (self.grade[s] > self.acceptance_threshold[school]):\n",
    "                self.decision[s] = 1\n",
    "            else:\n",
    "                self.decision[s] = 0\n",
    "                \n",
    "test = GradeDependentApplication(3)\n",
    "test.generate_data(10)"
   ]
  },
  {
   "cell_type": "code",
   "execution_count": 69,
   "id": "72e302da",
   "metadata": {},
   "outputs": [],
   "source": [
    "import pandas as pd\n",
    "acceptance_rates = np.array([[62, 82], [63, 68], [37, 34], [33, 35], [28, 24], [6, 7]])"
   ]
  },
  {
   "cell_type": "code",
   "execution_count": 6,
   "id": "36301eef-c772-48fa-9a07-f50a04ddb020",
   "metadata": {},
   "outputs": [],
   "source": [
    "application_rates = np.array([[0.3, 0.3, 0.2, 0.1, 0.05, 0.05], [0.05, 0.05, 0.1, 0.2, 0.3, 0.3]])\n"
   ]
  },
  {
   "cell_type": "code",
   "execution_count": 7,
   "id": "625f5c1f-31a7-4c38-ace2-e95ef1e4a52b",
   "metadata": {},
   "outputs": [
    {
     "name": "stdout",
     "output_type": "stream",
     "text": [
      "M acceptance:  49.89999999999999\n",
      "F acceptance:  27.200000000000003\n"
     ]
    }
   ],
   "source": [
    "print(\"M acceptance: \", np.dot(acceptance_rates[:,0],application_rates[0]))\n",
    "print(\"F acceptance: \", np.dot(acceptance_rates[:,1],application_rates[1]))"
   ]
  },
  {
   "cell_type": "code",
   "execution_count": 8,
   "id": "6d07453b-acc9-461b-ba75-a7716fb6441b",
   "metadata": {},
   "outputs": [
    {
     "data": {
      "text/plain": [
       "array([[0.3 , 0.3 , 0.2 , 0.1 , 0.05, 0.05],\n",
       "       [0.05, 0.05, 0.1 , 0.2 , 0.3 , 0.3 ]])"
      ]
     },
     "execution_count": 8,
     "metadata": {},
     "output_type": "execute_result"
    }
   ],
   "source": [
    "application_rates"
   ]
  },
  {
   "cell_type": "code",
   "execution_count": null,
   "id": "0906556f-e662-447b-a929-7ccb70126c9d",
   "metadata": {},
   "outputs": [],
   "source": []
  },
  {
   "cell_type": "code",
   "execution_count": null,
   "id": "8919ea10-b8a4-4979-b944-dcd2ea024c9c",
   "metadata": {},
   "outputs": [],
   "source": []
  }
 ],
 "metadata": {
  "kernelspec": {
   "display_name": "Python 3 (ipykernel)",
   "language": "python",
   "name": "python3"
  },
  "language_info": {
   "codemirror_mode": {
    "name": "ipython",
    "version": 3
   },
   "file_extension": ".py",
   "mimetype": "text/x-python",
   "name": "python",
   "nbconvert_exporter": "python",
   "pygments_lexer": "ipython3",
   "version": "3.10.7"
  }
 },
 "nbformat": 4,
 "nbformat_minor": 5
}
