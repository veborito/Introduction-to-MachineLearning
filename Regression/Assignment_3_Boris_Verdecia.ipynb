{
 "cells": [
  {
   "cell_type": "markdown",
   "id": "3f6e7038-e9ec-499e-955d-9b755c91c729",
   "metadata": {},
   "source": [
    "# Assignment 3\n",
    "\n",
    "## **1.**  Application on class data"
   ]
  },
  {
   "cell_type": "code",
   "execution_count": null,
   "id": "56a7becb-e3a7-4135-b823-3e54e13731eb",
   "metadata": {},
   "outputs": [],
   "source": []
  }
 ],
 "metadata": {
  "kernelspec": {
   "display_name": "Python 3 (ipykernel)",
   "language": "python",
   "name": "python3"
  },
  "language_info": {
   "codemirror_mode": {
    "name": "ipython",
    "version": 3
   },
   "file_extension": ".py",
   "mimetype": "text/x-python",
   "name": "python",
   "nbconvert_exporter": "python",
   "pygments_lexer": "ipython3",
   "version": "3.10.7"
  }
 },
 "nbformat": 4,
 "nbformat_minor": 5
}
