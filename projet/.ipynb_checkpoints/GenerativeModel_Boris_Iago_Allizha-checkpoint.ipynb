{
 "cells": [
  {
   "cell_type": "code",
   "execution_count": 1,
   "id": "73f8e615-ce55-4112-a796-430019f09086",
   "metadata": {
    "tags": []
   },
   "outputs": [],
   "source": [
    "import numpy as np\n",
    "import matplotlib.pyplot as plt\n",
    "from sklearn.preprocessing import MinMaxScaler"
   ]
  },
  {
   "cell_type": "code",
   "execution_count": 4,
   "id": "d4dba37e-32e8-461a-ad74-83a3adc56fcf",
   "metadata": {},
   "outputs": [],
   "source": [
    "class TrainSatisfactionSimulator:\n",
    "    def __init__(self, n_customers : int):\n",
    "        self.n_customers = n_customers\n",
    "        self.satisfaction = np.zeros(n_customers)\n",
    "        self.price = None\n",
    "        self.punctuality = None\n",
    "        self.duration = None\n",
    "        self.frequency = None\n",
    "        self.overcrowding = None\n",
    "        self.data = self.generate_data(n_customers)\n",
    "    \n",
    "    def generate_independent_vars(self, n_customers : int):\n",
    "        prices = np.arange(2.20, 100, 0.05)\n",
    "        p_prices = np.random.normal(25, 0.25,size=len(prices))\n",
    "        p_prices /= np.sum(p_prices)\n",
    "        self.price = np.random.choice(prices, p=p_prices, size=n_customers)\n",
    "        \n",
    "        self.punctuality = np.random.choice([1, 2, 3, 4, 5], p=[0.03, 0.07, 0.1, 0.3, 0.5], size=n_customers) # 5 globalement très ponctuel, 1 globalement très en retard\n",
    "        \n",
    "        duration_table = np.arange(2.20, 100, 0.05)\n",
    "        len_dur = len(duration_table)\n",
    "        p_duration = np.random.normal(4.8, 0.25, size=len_dur) # moyenne par jour\n",
    "        p_duration /= np.sum(p_duration)\n",
    "        self.duration = np.random.choice(duration_table, p=p_duration, size=n_customers)\n",
    "        \n",
    "        freq_table = np.arange(1, 260)\n",
    "        len_freq = len(freq_table)\n",
    "        p_freq = np.random.normal(70, 0.25, size=len_freq)\n",
    "        p_freq /= np.sum(p_freq)\n",
    "        self.frequency = np.random.choice(freq_table, p=p_freq, size=n_customers) # par an (entre 1 et 260)\n",
    "        \n",
    "        self.overcrowding = np.random.choice([1, 2, 3, 4, 5], size=n_customers)\n",
    "        \n",
    "    def generate_dependent_var(self, n_customers : int):\n",
    "        pass\n",
    "    \n",
    "    def generate_data(self, n_customers):\n",
    "        self.generate_independent_vars(n_customers)\n",
    "        self.generate_dependent_var(n_customers)\n",
    "        return np.array([self.price, self.punctuality, self.duration, \n",
    "                             self.frequency, self.overcrowding, self.satisfaction]).T\n",
    "\n",
    "      "
   ]
  },
  {
   "cell_type": "markdown",
   "id": "26910302-5776-47bc-b9dc-756825e7172a",
   "metadata": {
    "tags": []
   },
   "source": [
    "### **sources d'inspiration** :\n",
    "- Durée : https://www.bfs.admin.ch/bfs/fr/home/statistiques/mobilite-transports/transport-personnes/comportements-transports/distance-duree-jour-deplacements.html\n",
    "- Fréquence : https://www.bav.admin.ch/bav/fr/home/modes-de-transport/chemin-de-fer/transport-des-voyageurs.html\n",
    "- Propreté :https://www.bav.admin.ch/bav/fr/home/themes-generaux/trv/systeme-de-mesure-de-la-qualite.html\n"
   ]
  },
  {
   "cell_type": "code",
   "execution_count": 5,
   "id": "6cfc3231-5ce5-4553-bee1-9defa35eec59",
   "metadata": {
    "tags": []
   },
   "outputs": [
    {
     "data": {
      "text/plain": [
       "array([[ 99.6 ,   5.  ,  43.6 ,  52.  ,   3.  ,   0.  ],\n",
       "       [ 28.6 ,   5.  ,  74.8 ,  93.  ,   4.  ,   1.  ],\n",
       "       [ 42.15,   5.  ,  51.55, 124.  ,   2.  ,   0.  ],\n",
       "       ...,\n",
       "       [ 81.5 ,   4.  ,  46.25,  49.  ,   1.  ,   1.  ],\n",
       "       [ 76.6 ,   5.  ,   5.95, 151.  ,   5.  ,   1.  ],\n",
       "       [ 99.1 ,   5.  ,  44.1 , 179.  ,   1.  ,   1.  ]])"
      ]
     },
     "execution_count": 5,
     "metadata": {},
     "output_type": "execute_result"
    }
   ],
   "source": [
    "class IndependentSatisfaction(TrainSatisfactionSimulator):\n",
    "    def __init__(self, n_customers):\n",
    "        super().__init__(n_customers)\n",
    "    def generate_dependent_var(self, n_customers):\n",
    "        for i in range (n_customers):\n",
    "            d = np.random.choice(2)\n",
    "            self.satisfaction[i] = d\n",
    "\n",
    "train_data = IndependentSatisfaction(1000)\n",
    "train_data.data"
   ]
  },
  {
   "cell_type": "code",
   "execution_count": 6,
   "id": "5a57f5d8-facf-4a53-bc7e-49327366d050",
   "metadata": {
    "tags": []
   },
   "outputs": [
    {
     "data": {
      "text/plain": [
       "array([[ 91.55,   4.  ,  51.05, 207.  ,   4.  ,   1.  ],\n",
       "       [ 76.75,   3.  ,  36.45,  46.  ,   4.  ,   1.  ],\n",
       "       [ 18.95,   5.  ,  89.15, 220.  ,   5.  ,   0.  ],\n",
       "       ...,\n",
       "       [ 46.1 ,   3.  ,  53.2 ,  80.  ,   4.  ,   0.  ],\n",
       "       [ 70.65,   4.  ,  45.7 ,  63.  ,   2.  ,   1.  ],\n",
       "       [ 58.65,   4.  ,  41.85, 107.  ,   4.  ,   1.  ]])"
      ]
     },
     "execution_count": 6,
     "metadata": {},
     "output_type": "execute_result"
    }
   ],
   "source": [
    "class SimpleDependentSatisfaction(TrainSatisfactionSimulator):\n",
    "    def __init__(self, n_customers):\n",
    "        super().__init__(n_customers)\n",
    "        \n",
    "    def generate_dependent_var(self, n_customers):\n",
    "        \"\"\" \n",
    "            prix influence negative 0.2\n",
    "            durée influence negative 0.1\n",
    "            fréquence influence negative 0.2\n",
    "            ponctualité influence positive 0.3\n",
    "            overcrowding inlfuence negative 0.2\n",
    "            \n",
    "        \"\"\"\n",
    "        prices = self.price\n",
    "        for i in range(n_customers):\n",
    "            if (prices[i] > 50):\n",
    "                self.satisfaction[i] = 1\n",
    "            else:\n",
    "                self.satisfaction[i] = 0\n",
    "    \n",
    "train_data = SimpleDependentSatisfaction(1000)\n",
    "train_data.data"
   ]
  },
  {
   "cell_type": "code",
   "execution_count": 7,
   "id": "60090a6b-f4f0-44ab-8af6-1f311823b998",
   "metadata": {
    "tags": []
   },
   "outputs": [
    {
     "data": {
      "text/plain": [
       "array([[ 72.85,   5.  ,  64.05, 140.  ,   2.  ,   1.  ],\n",
       "       [ 74.7 ,   5.  ,  95.8 , 152.  ,   3.  ,   1.  ],\n",
       "       [ 46.8 ,   4.  ,  29.8 , 242.  ,   2.  ,   1.  ],\n",
       "       ...,\n",
       "       [ 91.6 ,   5.  ,  70.5 , 204.  ,   5.  ,   1.  ],\n",
       "       [ 34.4 ,   5.  ,  39.25,  49.  ,   2.  ,   0.  ],\n",
       "       [  5.15,   4.  ,  86.3 , 147.  ,   5.  ,   1.  ]])"
      ]
     },
     "execution_count": 7,
     "metadata": {},
     "output_type": "execute_result"
    }
   ],
   "source": [
    "class ComplexDependentSatisfaction(TrainSatisfactionSimulator):\n",
    "    def __init__(self, n_customers):\n",
    "        super().__init__(n_customers)\n",
    "        \n",
    "    def generate_dependent_var(self, n_customers):\n",
    "\n",
    "        data = np.array([self.price, self.punctuality, self.duration, \n",
    "                             self.frequency, self.overcrowding]).T\n",
    "        scaler = MinMaxScaler()\n",
    "        data = scaler.fit_transform(data)\n",
    "        prices = data[:,0]\n",
    "        punctuality = data[:,1]\n",
    "        duration = data[:,2]\n",
    "        frequency = data[:,3]\n",
    "        overcrowding = data[:,4]\n",
    "        \n",
    "        i_price = 0.2\n",
    "        i_dur = 0.1\n",
    "        i_freq = 0.2\n",
    "        i_punct = 0.3\n",
    "        i_overcrow = 0.2\n",
    "        for i in range(n_customers):\n",
    "            score = 1 + ((i_price * -prices[i]) +  (i_dur * -duration[i])\n",
    "            + (i_freq * -frequency[i]) + (i_punct * punctuality[i]) \n",
    "            + (i_overcrow * -overcrowding[i]))\n",
    "            p = 1 / (1 + np.exp(-score))\n",
    "            d = np.random.choice(2, p = [1 - p, p])\n",
    "            self.satisfaction[i] = d\n",
    "    \n",
    "\n",
    "train_data = ComplexDependentSatisfaction(1000)\n",
    "train_data.data"
   ]
  },
  {
   "cell_type": "code",
   "execution_count": 11,
   "id": "79cf22c1-f618-48d9-ae70-008c4c593136",
   "metadata": {},
   "outputs": [
    {
     "data": {
      "text/plain": [
       "array([[ 25.15,   4.  ,  80.9 ,  97.  ,   3.  ,   1.  ],\n",
       "       [ 72.65,   5.  ,  39.6 ,  55.  ,   1.  ,   0.  ],\n",
       "       [ 97.5 ,   4.  ,  53.85,  91.  ,   5.  ,   0.  ],\n",
       "       [ 77.4 ,   4.  ,  66.25,  25.  ,   3.  ,   0.  ],\n",
       "       [ 87.4 ,   4.  ,  71.85,  26.  ,   4.  ,   0.  ],\n",
       "       [ 87.95,   2.  ,  33.4 ,  46.  ,   4.  ,   1.  ],\n",
       "       [ 66.25,   2.  ,   5.6 ,  46.  ,   3.  ,   1.  ],\n",
       "       [ 36.05,   5.  ,  78.5 , 211.  ,   4.  ,   0.  ],\n",
       "       [ 36.1 ,   3.  ,   4.1 ,  60.  ,   5.  ,   1.  ],\n",
       "       [ 21.5 ,   4.  ,  87.45,  73.  ,   4.  ,   0.  ]])"
      ]
     },
     "execution_count": 11,
     "metadata": {},
     "output_type": "execute_result"
    }
   ],
   "source": [
    "class PondDependentSatisfaction(TrainSatisfactionSimulator):\n",
    "    def __init__(self, n_customers):\n",
    "        super().__init__(n_customers)\n",
    "        \n",
    "    def generate_dependent_var(self, n_customers):\n",
    "        \"\"\"\n",
    "        Calcule la satisfaction binaire (1 ou 0) en fonction des variables indépendantes\n",
    "        pondérées par leur facteur d'importance.\n",
    "        \"\"\"\n",
    "        # Facteurs d'importance\n",
    "        i_price = 0.2\n",
    "        i_punctuality = 0.3\n",
    "        i_duration = 0.1\n",
    "        i_frequency = 0.2\n",
    "        i_overcrowding = 0.2\n",
    "\n",
    "        # Crée un tableau de données et applique une normalisation\n",
    "        data = np.array([self.price, self.punctuality, self.duration, \n",
    "                         self.frequency, self.overcrowding]).T\n",
    "        scaler = MinMaxScaler()\n",
    "        data = scaler.fit_transform(data)  # Met à l'échelle entre [0, 1]\n",
    "\n",
    "        # Applique les facteurs d'importance pour chaque variable\n",
    "        weighted_sum = (i_price * data[:, 0] +\n",
    "                        i_punctuality * data[:, 1] +\n",
    "                        i_duration * data[:, 2] +\n",
    "                        i_frequency * data[:, 3] +\n",
    "                        i_overcrowding * data[:, 4])\n",
    "\n",
    "        # Calcule la satisfaction : 0 si la somme pondérée > 0.5, sinon 1\n",
    "        self.satisfaction = np.where(weighted_sum > 0.5, 0, 1)  # Utilise un seuil de 0.5 après normalisation\n",
    "        \n",
    "\n",
    "train_data = PondDependentSatisfaction(10)\n",
    "train_data.data"
   ]
  },
  {
   "cell_type": "markdown",
   "id": "ace9e7b5-c1ba-4d7d-9870-7dffbb51e41f",
   "metadata": {},
   "source": [
    "## Alternative model"
   ]
  },
  {
   "cell_type": "code",
   "execution_count": null,
   "id": "5ef3ffd9-ab40-46c7-bdf7-00563798c31d",
   "metadata": {},
   "outputs": [],
   "source": [
    "class TrainSatisfactionSimulator:\n",
    "    def __init__(self, n_customers):\n",
    "        self.n_customers = n_customers\n",
    "        self.price = None\n",
    "        self.punctuality = None\n",
    "        self.duration = None\n",
    "        self.frequency = None\n",
    "        self.overcrowding = None\n",
    "        self.satisfaction = np.zeros(n_customers)  # Satisfaction binaire (1 ou 0)\n",
    "        self.data_matrix = None  # Matrice pour stocker les données complètes\n",
    "        \n",
    "        self.generate_independent_vars()\n",
    "        self.generate_satisfaction()\n",
    "        self.create_data_matrix()\n",
    "\n",
    "    def generate_independent_vars(self):\n",
    "        \"\"\"\n",
    "        Génère les valeurs pour price, punctuality, duration, frequency et overcrowding.\n",
    "        Chaque variable suit une distribution normale entre 1 et 5.\n",
    "        \"\"\"\n",
    "        mean, std_dev = 3, 1  # Moyenne centrée sur 3 pour rester dans [1,5]\n",
    "\n",
    "        # Génération des variables indépendantes en suivant une distribution normale\n",
    "        self.price = np.clip(np.round(np.random.normal(mean, std_dev, self.n_customers)), 1, 5)\n",
    "        self.punctuality = np.clip(np.round(np.random.normal(mean, std_dev, self.n_customers)), 1, 5)\n",
    "        self.duration = np.clip(np.round(np.random.normal(mean, std_dev, self.n_customers)), 1, 5)\n",
    "        self.frequency = np.clip(np.round(np.random.normal(mean, std_dev, self.n_customers)), 1, 5)\n",
    "        self.overcrowding = np.clip(np.round(np.random.normal(mean, std_dev, self.n_customers)), 1, 5)\n",
    "\n",
    "    def generate_satisfaction(self):\n",
    "        \"\"\"\n",
    "        Calcule la satisfaction binaire (1 ou 0) en fonction des variables indépendantes\n",
    "        pondérées par leur facteur d'importance.\n",
    "        \"\"\"\n",
    "        # Facteurs d'importance\n",
    "        i_price = 0.2\n",
    "        i_punctuality = 0.3\n",
    "        i_duration = 0.1\n",
    "        i_frequency = 0.2\n",
    "        i_overcrowding = 0.2\n",
    "\n",
    "        # Crée un tableau de données et applique une normalisation\n",
    "        data = np.array([self.price, self.punctuality, self.duration, \n",
    "                         self.frequency, self.overcrowding]).T\n",
    "        scaler = MinMaxScaler()\n",
    "        data = scaler.fit_transform(data)  # Met à l'échelle entre [0, 1]\n",
    "\n",
    "        # Applique les facteurs d'importance pour chaque variable\n",
    "        weighted_sum = (i_price * data[:, 0] +\n",
    "                        i_punctuality * data[:, 1] +\n",
    "                        i_duration * data[:, 2] +\n",
    "                        i_frequency * data[:, 3] +\n",
    "                        i_overcrowding * data[:, 4])\n",
    "\n",
    "        # Calcule la satisfaction : 0 si la somme pondérée > 0.5, sinon 1\n",
    "        self.satisfaction = np.where(weighted_sum > 0.5, 0, 1)  # Utilise un seuil de 0.5 après normalisation\n",
    "\n",
    "    def create_data_matrix(self):\n",
    "        \"\"\"\n",
    "        Crée une matrice de données combinant toutes les variables indépendantes et la satisfaction.\n",
    "        \"\"\"\n",
    "        # Combine les variables et la satisfaction dans une matrice\n",
    "        self.data_matrix = np.column_stack((self.price, self.punctuality, self.duration,\n",
    "                                            self.frequency, self.overcrowding, self.satisfaction))\n",
    "    \n",
    "    def display_data_matrix(self):\n",
    "        \"\"\"\n",
    "        Affiche la matrice des données pour chaque client.\n",
    "        \"\"\"\n",
    "        print(\"Data Matrix (price, punctuality, duration, frequency, overcrowding, satisfaction):\")\n",
    "        print(self.data_matrix)"
   ]
  }
 ],
 "metadata": {
  "kernelspec": {
   "display_name": "Python 3 (ipykernel)",
   "language": "python",
   "name": "python3"
  },
  "language_info": {
   "codemirror_mode": {
    "name": "ipython",
    "version": 3
   },
   "file_extension": ".py",
   "mimetype": "text/x-python",
   "name": "python",
   "nbconvert_exporter": "python",
   "pygments_lexer": "ipython3",
   "version": "3.10.7"
  }
 },
 "nbformat": 4,
 "nbformat_minor": 5
}
