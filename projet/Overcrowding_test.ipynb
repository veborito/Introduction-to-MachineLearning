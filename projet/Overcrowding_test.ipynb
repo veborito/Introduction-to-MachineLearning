{
 "cells": [
  {
   "cell_type": "markdown",
   "metadata": {
    "id": "dIcbKS3_Acai"
   },
   "source": [
    "### Project 7 : Passenger Satisfaction on SBB (Swiss Federal Railways)\n",
    "\n",
    "    1. Define a scientific question (e.g. are women better in math?)\n",
    "     \n",
    "    2. Simulator. What are the dependencies? How can we modify it so we get different answers? (e.g in one simulator math ability is independent of gender; in another, it depends on educational stimulus, which depends on gender).\n",
    "\n",
    "    3. Data sources, if any. Data collection methodology, if any. (Otherwise rely on the simulation)\n",
    "    \n",
    "    4. Pipeline. How do you process data reliably?\n",
    "    \n",
    "    5. Methodology. What machine learning / statistical methods are you using to answer the question? How do you justify them?\n",
    "    \n",
    "    6. Summary results: plots, graphs, tables, that can help you answer the question you are interested in.\n",
    "    \n",
    "    7. Conclusion based on your results. Can you answer the question? If not, why not?\n"
   ]
  },
  {
   "cell_type": "markdown",
   "metadata": {
    "id": "iWBuOuU07gH5"
   },
   "source": [
    "### Sources intéressantes\n",
    "\n",
    "- Influence du genre sur le salaire: https://www.ebg.admin.ch/fr/les-raisons-des-ecarts-salariaux-entre-les-femmes-et-les-hommes\n",
    "\n",
    "- Salaires Moyens : https://www.bfs.admin.ch/bfs/fr/home/statistiques/travail-remuneration/salaires-revenus-cout-travail.html\n",
    "- Durée : https://www.bfs.admin.ch/bfs/fr/home/statistiques/mobilite-transports/transport-personnes/comportements-transports/distance-duree-jour-deplacements.html\n",
    "- Fréquence : https://www.bav.admin.ch/bav/fr/home/modes-de-transport/chemin-de-fer/transport-des-voyageurs.html\n",
    "- Propreté :https://www.bav.admin.ch/bav/fr/home/themes-generaux/trv/systeme-de-mesure-de-la-qualite.html (je trouve inutile de l'ajouter, car la proprété est globalement très bonne en Suisse)\n"
   ]
  },
  {
   "cell_type": "markdown",
   "metadata": {
    "id": "yBsHakGF4oGQ"
   },
   "source": [
    "### TODO:\n",
    " - Changer les relations entre les variables afin d'avoir des résultats différents (Simplifier mon implémentation)\n",
    " - Faire un graph des changements\n",
    " - Essayer Knn et MLP"
   ]
  },
  {
   "cell_type": "markdown",
   "metadata": {
    "id": "5tB_OngJZUN6"
   },
   "source": [
    "# **But :**\n",
    "Notre objectif est de développer un modèle de classification qui prédit si un passager est satisfait ou insatisfait, en fonction de différents critères liés aux services des CFF."
   ]
  },
  {
   "cell_type": "markdown",
   "metadata": {
    "id": "jFTRVzTVWbij"
   },
   "source": [
    "# **Variables choisies :**\n",
    "Les variables que nous avons sélectionnées incluent des aspects comme :\n",
    "\n",
    "* Surpopulation (Overcrowding)  \n",
    "* Prix des billets (Price)\n",
    "* Ponctualité (Punctuality)\n",
    "* Durée du voyage (Duration)\n",
    "* Fréquence des trajets (Frequency)\n",
    "* Revenu (Income)\n",
    "* Possession d’une voiture (Has Car)\n",
    "* Genre (Gender)\n",
    "* Nombre de jours de télétravail (Remote Working Days)\n",
    "* Âge (Age)"
   ]
  },
  {
   "cell_type": "markdown",
   "metadata": {
    "id": "fycK-shA5Cec"
   },
   "source": [
    "### Graph dependecies"
   ]
  },
  {
   "cell_type": "markdown",
   "metadata": {
    "id": "vAB0Ght15Ypd"
   },
   "source": [
    "### Data generation"
   ]
  },
  {
   "cell_type": "code",
   "execution_count": 1,
   "metadata": {
    "id": "0kJD-jPB7ETf",
    "tags": []
   },
   "outputs": [],
   "source": [
    "import numpy as np\n",
    "import pandas as pd\n",
    "import matplotlib.pyplot as plt\n",
    "from GenerativeModel import ImpactOnOvercrowding"
   ]
  },
  {
   "cell_type": "code",
   "execution_count": 28,
   "metadata": {
    "colab": {
     "base_uri": "https://localhost:8080/",
     "height": 261
    },
    "id": "mDiOGKfKCn-e",
    "outputId": "bbee31ae-36a1-44f5-ebca-9b9874de24bc",
    "tags": []
   },
   "outputs": [
    {
     "data": {
      "text/html": [
       "<div>\n",
       "<style scoped>\n",
       "    .dataframe tbody tr th:only-of-type {\n",
       "        vertical-align: middle;\n",
       "    }\n",
       "\n",
       "    .dataframe tbody tr th {\n",
       "        vertical-align: top;\n",
       "    }\n",
       "\n",
       "    .dataframe thead th {\n",
       "        text-align: right;\n",
       "    }\n",
       "</style>\n",
       "<table border=\"1\" class=\"dataframe\">\n",
       "  <thead>\n",
       "    <tr style=\"text-align: right;\">\n",
       "      <th></th>\n",
       "      <th>Age</th>\n",
       "      <th>Gender</th>\n",
       "      <th>Income</th>\n",
       "      <th>Remote Working Days</th>\n",
       "      <th>Has Car</th>\n",
       "      <th>First-Class</th>\n",
       "      <th>Price</th>\n",
       "      <th>Punctuality</th>\n",
       "      <th>Duration</th>\n",
       "      <th>Frequency</th>\n",
       "      <th>Overcrowding</th>\n",
       "      <th>Satisfaction</th>\n",
       "    </tr>\n",
       "  </thead>\n",
       "  <tbody>\n",
       "    <tr>\n",
       "      <th>0</th>\n",
       "      <td>44</td>\n",
       "      <td>F</td>\n",
       "      <td>109000</td>\n",
       "      <td>3</td>\n",
       "      <td>no</td>\n",
       "      <td>1</td>\n",
       "      <td>5</td>\n",
       "      <td>4</td>\n",
       "      <td>3</td>\n",
       "      <td>2</td>\n",
       "      <td>1</td>\n",
       "      <td>0</td>\n",
       "    </tr>\n",
       "    <tr>\n",
       "      <th>1</th>\n",
       "      <td>58</td>\n",
       "      <td>M</td>\n",
       "      <td>84000</td>\n",
       "      <td>4</td>\n",
       "      <td>yes</td>\n",
       "      <td>0</td>\n",
       "      <td>5</td>\n",
       "      <td>5</td>\n",
       "      <td>5</td>\n",
       "      <td>3</td>\n",
       "      <td>1</td>\n",
       "      <td>1</td>\n",
       "    </tr>\n",
       "    <tr>\n",
       "      <th>2</th>\n",
       "      <td>47</td>\n",
       "      <td>M</td>\n",
       "      <td>84000</td>\n",
       "      <td>1</td>\n",
       "      <td>yes</td>\n",
       "      <td>1</td>\n",
       "      <td>4</td>\n",
       "      <td>3</td>\n",
       "      <td>4</td>\n",
       "      <td>2</td>\n",
       "      <td>1</td>\n",
       "      <td>1</td>\n",
       "    </tr>\n",
       "    <tr>\n",
       "      <th>3</th>\n",
       "      <td>20</td>\n",
       "      <td>F</td>\n",
       "      <td>41000</td>\n",
       "      <td>0</td>\n",
       "      <td>yes</td>\n",
       "      <td>0</td>\n",
       "      <td>2</td>\n",
       "      <td>4</td>\n",
       "      <td>4</td>\n",
       "      <td>2</td>\n",
       "      <td>3</td>\n",
       "      <td>0</td>\n",
       "    </tr>\n",
       "    <tr>\n",
       "      <th>4</th>\n",
       "      <td>18</td>\n",
       "      <td>M</td>\n",
       "      <td>1000</td>\n",
       "      <td>0</td>\n",
       "      <td>yes</td>\n",
       "      <td>1</td>\n",
       "      <td>4</td>\n",
       "      <td>5</td>\n",
       "      <td>5</td>\n",
       "      <td>1</td>\n",
       "      <td>1</td>\n",
       "      <td>1</td>\n",
       "    </tr>\n",
       "  </tbody>\n",
       "</table>\n",
       "</div>"
      ],
      "text/plain": [
       "  Age Gender  Income Remote Working Days Has Car First-Class Price  \\\n",
       "0  44      F  109000                   3      no           1     5   \n",
       "1  58      M   84000                   4     yes           0     5   \n",
       "2  47      M   84000                   1     yes           1     4   \n",
       "3  20      F   41000                   0     yes           0     2   \n",
       "4  18      M    1000                   0     yes           1     4   \n",
       "\n",
       "  Punctuality Duration Frequency Overcrowding Satisfaction  \n",
       "0           4        3         2            1            0  \n",
       "1           5        5         3            1            1  \n",
       "2           3        4         2            1            1  \n",
       "3           4        4         2            3            0  \n",
       "4           5        5         1            1            1  "
      ]
     },
     "execution_count": 28,
     "metadata": {},
     "output_type": "execute_result"
    }
   ],
   "source": [
    "# Generation of synthetic data\n",
    "np.random.seed(1)\n",
    "gen = ImpactOnOvercrowding(100000)\n",
    "\n",
    "data = gen.df\n",
    "\n",
    "data.head()"
   ]
  },
  {
   "cell_type": "code",
   "execution_count": 29,
   "metadata": {
    "tags": []
   },
   "outputs": [
    {
     "data": {
      "text/plain": [
       "[]"
      ]
     },
     "execution_count": 29,
     "metadata": {},
     "output_type": "execute_result"
    },
    {
     "data": {
      "image/png": "[encoded data removed]",
      "text/plain": [
       "<Figure size 640x480 with 1 Axes>"
      ]
     },
     "metadata": {},
     "output_type": "display_data"
    }
   ],
   "source": [
    "satis = data['Satisfaction'].value_counts().to_numpy()\n",
    "satis = np.sort(satis)\n",
    "plt.bar([\"Unsatified\", \"Satisfied\"], satis)\n",
    "plt.plot()"
   ]
  },
  {
   "cell_type": "markdown",
   "metadata": {
    "id": "W_qYquUdWFFm"
   },
   "source": [
    "### Simple Pipeline"
   ]
  },
  {
   "cell_type": "code",
   "execution_count": 30,
   "metadata": {
    "id": "_rgNU3YDDLKu"
   },
   "outputs": [],
   "source": [
    "from sklearn.pipeline import Pipeline\n",
    "from sklearn.preprocessing import MinMaxScaler\n",
    "from sklearn.preprocessing import OneHotEncoder\n",
    "from sklearn.compose import ColumnTransformer\n",
    "from sklearn.model_selection import train_test_split"
   ]
  },
  {
   "cell_type": "code",
   "execution_count": 31,
   "metadata": {
    "id": "vusO9Yr1VLBU"
   },
   "outputs": [],
   "source": [
    "numeric_features = [ \"Age\", \"Income\", \"Remote Working Days\",\n",
    "                    \"Price\", \"Punctuality\", \"Duration\", \"Frequency\",\n",
    "                    \"Overcrowding\"]\n",
    "numeric_transformer = Pipeline(\n",
    "    steps=[(\"scaler\", MinMaxScaler())]\n",
    ")\n",
    "\n",
    "categorical_features = [\"Has Car\", \"Gender\",\"First-Class\"]\n",
    "categorical_transformer = Pipeline(\n",
    "    steps=[\n",
    "        (\"encoder\", OneHotEncoder())\n",
    "    ]\n",
    ")\n",
    "preprocessor = ColumnTransformer(\n",
    "    transformers=[\n",
    "        (\"num\", numeric_transformer, numeric_features),\n",
    "        (\"cat\", categorical_transformer, categorical_features),\n",
    "    ]\n",
    ")\n"
   ]
  },
  {
   "cell_type": "code",
   "execution_count": 32,
   "metadata": {
    "id": "F0jsOlr8VNuA"
   },
   "outputs": [],
   "source": [
    "from sklearn.ensemble import RandomForestClassifier\n",
    "from sklearn.linear_model import LogisticRegression\n",
    "from sklearn.neighbors import KNeighborsClassifier\n",
    "from sklearn.linear_model import Perceptron\n",
    "from sklearn.metrics import accuracy_score"
   ]
  },
  {
   "cell_type": "code",
   "execution_count": 33,
   "metadata": {
    "tags": []
   },
   "outputs": [],
   "source": [
    "def SimplePipeline(simulator, data_size):\n",
    "    np.random.seed(1)\n",
    "    gen = simulator(data_size)\n",
    "    data = gen.df\n",
    "    \n",
    "    X = data.copy().drop(['Satisfaction'], axis=1)\n",
    "    y = data['Satisfaction']\n",
    "\n",
    "    X_train, X_test, y_train, y_test = train_test_split(X, y, test_size=0.33)\n",
    "    \n",
    "    def my_pipeline(model, preprocessor):\n",
    "        clf = Pipeline(\n",
    "        steps=[(\"preprocessor\", preprocessor),\n",
    "               (\"classifier\", model)]\n",
    "        )\n",
    "        clf.fit(X_train, y_train)\n",
    "        return clf.score(X_test, y_test)\n",
    "\n",
    "    score_random_forest = my_pipeline(RandomForestClassifier(), preprocessor)\n",
    "    score_logistic = my_pipeline(LogisticRegression(), preprocessor)\n",
    "    score_perceptron = my_pipeline(Perceptron(), preprocessor)\n",
    "    score_knn = my_pipeline(KNeighborsClassifier(), preprocessor)\n",
    "    \n",
    "    print(f\"Simulator = {gen}, Size of data = {data_size}\")\n",
    "    print(f\"Accuracy score for Random Forest Classifier: {score_random_forest:.4f}\")\n",
    "    print(f\"Accuracy score for Logistic Regression: {score_logistic:.4f}\")\n",
    "    print(f\"Accuracy score for Single Layer Perceptron: {score_perceptron:.4f}\")\n",
    "    print(f\"Accuracy score for KNeighborsClassifier: {score_knn:.4f}\")\n",
    "\n",
    "    "
   ]
  },
  {
   "cell_type": "code",
   "execution_count": 34,
   "metadata": {},
   "outputs": [
    {
     "name": "stdout",
     "output_type": "stream",
     "text": [
      "Simulator = ImpactOnOvercrowding, Size of data = 1000\n",
      "Accuracy score for Random Forest Classifier: 0.5879\n",
      "Accuracy score for Logistic Regression: 0.5758\n",
      "Accuracy score for Single Layer Perceptron: 0.4909\n",
      "Accuracy score for KNeighborsClassifier: 0.5455\n"
     ]
    }
   ],
   "source": [
    "SimplePipeline(ImpactOnOvercrowding, 10000)"
   ]
  },
  {
   "cell_type": "markdown",
   "metadata": {
    "id": "P_bcKFcbboF-"
   },
   "source": [
    "### Feature selection"
   ]
  },
  {
   "cell_type": "markdown",
   "metadata": {},
   "source": [
    "#### Why feature selection ?\n",
    "\n",
    "Because we need to be certain that the results match the simulation. So we do this principally to check if our the results make sense in regard of the simulation. "
   ]
  },
  {
   "cell_type": "code",
   "execution_count": 9,
   "metadata": {
    "id": "2ctlV_ZZWBUP"
   },
   "outputs": [],
   "source": [
    "from GenerativeModel import NoIncomeDependentSatisfaction"
   ]
  },
  {
   "cell_type": "code",
   "execution_count": 19,
   "metadata": {
    "colab": {
     "base_uri": "https://localhost:8080/",
     "height": 206
    },
    "id": "Rr5q9GombrJl",
    "outputId": "7f8093e4-928f-4502-e6ba-72dc847916e5"
   },
   "outputs": [
    {
     "data": {
      "text/html": [
       "<div>\n",
       "<style scoped>\n",
       "    .dataframe tbody tr th:only-of-type {\n",
       "        vertical-align: middle;\n",
       "    }\n",
       "\n",
       "    .dataframe tbody tr th {\n",
       "        vertical-align: top;\n",
       "    }\n",
       "\n",
       "    .dataframe thead th {\n",
       "        text-align: right;\n",
       "    }\n",
       "</style>\n",
       "<table border=\"1\" class=\"dataframe\">\n",
       "  <thead>\n",
       "    <tr style=\"text-align: right;\">\n",
       "      <th></th>\n",
       "      <th>Age</th>\n",
       "      <th>Gender</th>\n",
       "      <th>Income</th>\n",
       "      <th>Remote Working Days</th>\n",
       "      <th>Has Car</th>\n",
       "      <th>First-Class</th>\n",
       "      <th>Price</th>\n",
       "      <th>Punctuality</th>\n",
       "      <th>Duration</th>\n",
       "      <th>Frequency</th>\n",
       "      <th>Overcrowding</th>\n",
       "      <th>Satisfaction</th>\n",
       "    </tr>\n",
       "  </thead>\n",
       "  <tbody>\n",
       "    <tr>\n",
       "      <th>0</th>\n",
       "      <td>44</td>\n",
       "      <td>0</td>\n",
       "      <td>109000</td>\n",
       "      <td>3</td>\n",
       "      <td>0</td>\n",
       "      <td>1</td>\n",
       "      <td>5</td>\n",
       "      <td>4</td>\n",
       "      <td>3</td>\n",
       "      <td>2</td>\n",
       "      <td>1</td>\n",
       "      <td>0</td>\n",
       "    </tr>\n",
       "    <tr>\n",
       "      <th>1</th>\n",
       "      <td>58</td>\n",
       "      <td>1</td>\n",
       "      <td>84000</td>\n",
       "      <td>4</td>\n",
       "      <td>1</td>\n",
       "      <td>0</td>\n",
       "      <td>5</td>\n",
       "      <td>5</td>\n",
       "      <td>5</td>\n",
       "      <td>3</td>\n",
       "      <td>1</td>\n",
       "      <td>1</td>\n",
       "    </tr>\n",
       "    <tr>\n",
       "      <th>2</th>\n",
       "      <td>47</td>\n",
       "      <td>1</td>\n",
       "      <td>84000</td>\n",
       "      <td>1</td>\n",
       "      <td>1</td>\n",
       "      <td>1</td>\n",
       "      <td>4</td>\n",
       "      <td>3</td>\n",
       "      <td>4</td>\n",
       "      <td>2</td>\n",
       "      <td>1</td>\n",
       "      <td>1</td>\n",
       "    </tr>\n",
       "    <tr>\n",
       "      <th>3</th>\n",
       "      <td>20</td>\n",
       "      <td>0</td>\n",
       "      <td>41000</td>\n",
       "      <td>0</td>\n",
       "      <td>1</td>\n",
       "      <td>0</td>\n",
       "      <td>2</td>\n",
       "      <td>4</td>\n",
       "      <td>4</td>\n",
       "      <td>2</td>\n",
       "      <td>3</td>\n",
       "      <td>0</td>\n",
       "    </tr>\n",
       "    <tr>\n",
       "      <th>4</th>\n",
       "      <td>18</td>\n",
       "      <td>1</td>\n",
       "      <td>1000</td>\n",
       "      <td>0</td>\n",
       "      <td>1</td>\n",
       "      <td>1</td>\n",
       "      <td>4</td>\n",
       "      <td>5</td>\n",
       "      <td>5</td>\n",
       "      <td>1</td>\n",
       "      <td>1</td>\n",
       "      <td>1</td>\n",
       "    </tr>\n",
       "  </tbody>\n",
       "</table>\n",
       "</div>"
      ],
      "text/plain": [
       "  Age  Gender  Income Remote Working Days  Has Car First-Class Price  \\\n",
       "0  44       0  109000                   3        0           1     5   \n",
       "1  58       1   84000                   4        1           0     5   \n",
       "2  47       1   84000                   1        1           1     4   \n",
       "3  20       0   41000                   0        1           0     2   \n",
       "4  18       1    1000                   0        1           1     4   \n",
       "\n",
       "  Punctuality Duration Frequency Overcrowding Satisfaction  \n",
       "0           4        3         2            1            0  \n",
       "1           5        5         3            1            1  \n",
       "2           3        4         2            1            1  \n",
       "3           4        4         2            3            0  \n",
       "4           5        5         1            1            1  "
      ]
     },
     "execution_count": 19,
     "metadata": {},
     "output_type": "execute_result"
    }
   ],
   "source": [
    "# Generation of synthetic data\n",
    "np.random.seed(1)\n",
    "gen = ImpactOnOvercrowding(100000)\n",
    "data = gen.df\n",
    "data['Gender'] = data['Gender'].map({'M': 1, 'F': 0})\n",
    "data['Has Car'] = data['Has Car'].map({'yes': 1, 'no': 0})\n",
    "data.head()"
   ]
  },
  {
   "cell_type": "code",
   "execution_count": 20,
   "metadata": {
    "colab": {
     "base_uri": "https://localhost:8080/"
    },
    "id": "cnt4XO_tbsf8",
    "outputId": "73b9187e-3b12-4a7e-8f66-9c799c4a804d"
   },
   "outputs": [
    {
     "name": "stdout",
     "output_type": "stream",
     "text": [
      "correlation: Satisfaction           1.000000\n",
      "Frequency              0.173966\n",
      "Punctuality            0.168323\n",
      "Overcrowding           0.149394\n",
      "Has Car                0.064600\n",
      "First-Class            0.059364\n",
      "Remote Working Days    0.055792\n",
      "Duration               0.047817\n",
      "Income                 0.015371\n",
      "Price                  0.002519\n",
      "Age                    0.002429\n",
      "Gender                 0.001919\n",
      "Name: Satisfaction, dtype: float64\n"
     ]
    }
   ],
   "source": [
    "# Filter method\n",
    "correlations = data.corr()['Satisfaction'].abs().sort_values(ascending=False)\n",
    "\n",
    "print('correlation:',correlations)"
   ]
  },
  {
   "cell_type": "code",
   "execution_count": 21,
   "metadata": {
    "colab": {
     "base_uri": "https://localhost:8080/"
    },
    "id": "uWdIjC9TbvDc",
    "outputId": "102d4fee-1edc-46a8-fc2c-118588b66bdb"
   },
   "outputs": [
    {
     "name": "stdout",
     "output_type": "stream",
     "text": [
      "                feature  rank\n",
      "6                 Price     1\n",
      "7           Punctuality     1\n",
      "8              Duration     1\n",
      "9             Frequency     1\n",
      "10         Overcrowding     1\n",
      "5           First-Class     2\n",
      "3   Remote Working Days     3\n",
      "2                Income     4\n",
      "4               Has Car     5\n",
      "0                   Age     6\n",
      "1                Gender     7\n"
     ]
    }
   ],
   "source": [
    "# RFE\n",
    "import pandas as pd\n",
    "from sklearn.feature_selection import RFE\n",
    "from sklearn.linear_model import LinearRegression\n",
    "from sklearn.linear_model import LogisticRegression\n",
    "from sklearn.preprocessing import MinMaxScaler\n",
    "\n",
    "# Define the model using linear regression\n",
    "model = LogisticRegression()\n",
    "\n",
    "# Define RFE with the model and specify the number of features to select\n",
    "rfe = RFE(model, n_features_to_select=5)\n",
    "\n",
    "# Separate features and target variable\n",
    "X = data.drop(columns=['Satisfaction'])\n",
    "y = data['Satisfaction']\n",
    "\n",
    "scale = MinMaxScaler()\n",
    "X_minmax = scale.fit_transform(X)\n",
    "# Fit RFE to the data\n",
    "rfe.fit(X_minmax, y)\n",
    "\n",
    "# Get the ranking of features\n",
    "feature_ranking = pd.DataFrame({\n",
    "    'feature': X.columns,\n",
    "    'rank': rfe.ranking_\n",
    "}).sort_values(by='rank')\n",
    "\n",
    "print(feature_ranking)"
   ]
  },
  {
   "cell_type": "code",
   "execution_count": 22,
   "metadata": {
    "colab": {
     "base_uri": "https://localhost:8080/"
    },
    "id": "tHKY9xjkb9vC",
    "outputId": "07301ddc-3a6f-41ea-f35b-609fb00af154"
   },
   "outputs": [
    {
     "name": "stdout",
     "output_type": "stream",
     "text": [
      "                feature  importance\n",
      "0                   Age    0.375773\n",
      "2                Income    0.113730\n",
      "3   Remote Working Days    0.096170\n",
      "8              Duration    0.085839\n",
      "6                 Price    0.069461\n",
      "9             Frequency    0.069189\n",
      "7           Punctuality    0.066411\n",
      "10         Overcrowding    0.055587\n",
      "1                Gender    0.033601\n",
      "4               Has Car    0.022674\n",
      "5           First-Class    0.011566\n"
     ]
    }
   ],
   "source": [
    "# Random Forest\n",
    "\n",
    "from sklearn.ensemble import RandomForestClassifier\n",
    "\n",
    "# Train a Random Forest model\n",
    "model = RandomForestClassifier()\n",
    "model.fit(X_minmax, y)\n",
    "\n",
    "# Get feature importances\n",
    "importances = pd.DataFrame({\n",
    "    'feature': X.columns,\n",
    "    'importance': model.feature_importances_\n",
    "}).sort_values(by='importance', ascending=False)\n",
    "\n",
    "print(importances)"
   ]
  },
  {
   "cell_type": "code",
   "execution_count": 23,
   "metadata": {
    "colab": {
     "base_uri": "https://localhost:8080/"
    },
    "id": "OfANTUGScAKU",
    "outputId": "38c26362-b8a6-457e-cdfe-31dbec272e6e"
   },
   "outputs": [
    {
     "name": "stdout",
     "output_type": "stream",
     "text": [
      "Accuracy without feature selection: 0.624433\n",
      "Accuracy with feature selection (RFE): 0.625400\n",
      "Accuracy with feature selection (Filter): 0.625400\n",
      "Accuracy with feature selection (Random Forest): 0.575233\n"
     ]
    }
   ],
   "source": [
    "# comparing the different models\n",
    "\n",
    "from sklearn.linear_model import LogisticRegression\n",
    "from sklearn.metrics import accuracy_score\n",
    "from sklearn.model_selection import train_test_split\n",
    "\n",
    "# Split data\n",
    "X_train, X_test, y_train, y_test = train_test_split(X, y, test_size=0.3, random_state=42)\n",
    "\n",
    "from sklearn.metrics import confusion_matrix, ConfusionMatrixDisplay\n",
    "\n",
    "scale = MinMaxScaler()\n",
    "X_train_minmax = scale.fit_transform(X_train)\n",
    "X_test_minmax = scale.fit_transform(X_test)\n",
    "\n",
    "# Model without feature selection\n",
    "model_all_features = LogisticRegression(max_iter=200)\n",
    "model_all_features.fit(X_train_minmax, y_train)\n",
    "predictions_all = model_all_features.predict(X_test_minmax)\n",
    "accuracy_all = accuracy_score(y_test, predictions_all)\n",
    "print(f'Accuracy without feature selection: {accuracy_all:.6f}')\n",
    "\n",
    "# Model with selected features (top 5 from RFE)\n",
    "selected_features = feature_ranking[feature_ranking['rank'] == 1]['feature']\n",
    "X_train_selected = X_train[selected_features]\n",
    "X_test_selected = X_test[selected_features]\n",
    "\n",
    "X_train_selected_minmax = scale.fit_transform(X_train_selected)\n",
    "X_test_selected_minmax = scale.fit_transform(X_test_selected)\n",
    "\n",
    "model_selected_features = LogisticRegression(max_iter=200)\n",
    "model_selected_features.fit(X_train_selected_minmax, y_train)\n",
    "predictions_selected = model_selected_features.predict(X_test_selected_minmax)\n",
    "accuracy_selected = accuracy_score(y_test, predictions_selected)\n",
    "\n",
    "print(f'Accuracy with feature selection (RFE): {accuracy_selected:.6f}')\n",
    "\n",
    "# Model with selected features (correleted filter > 0.4)\n",
    "X_train_selected = X_train.loc[:,[\"Price\", \"Overcrowding\"]]\n",
    "X_test_selected = X_test.loc[:,[\"Price\", \"Overcrowding\"]]\n",
    "\n",
    "model_selected_features = LogisticRegression(max_iter=200)\n",
    "model_selected_features.fit(X_train_selected_minmax, y_train)\n",
    "predictions_selected = model_selected_features.predict(X_test_selected_minmax)\n",
    "accuracy_selected = accuracy_score(y_test, predictions_selected)\n",
    "\n",
    "print(f'Accuracy with feature selection (Filter): {accuracy_selected:.6f}')\n",
    "\n",
    "# Model with selected features (Random Forest)\n",
    "selected_features = importances[importances['importance'] > 0.1]['feature']\n",
    "X_train_selected = X_train[selected_features]\n",
    "X_test_selected = X_test[selected_features]\n",
    "\n",
    "X_train_selected_minmax = scale.fit_transform(X_train_selected)\n",
    "X_test_selected_minmax = scale.fit_transform(X_test_selected)\n",
    "\n",
    "model_selected_features = LogisticRegression(max_iter=200)\n",
    "model_selected_features.fit(X_train_selected_minmax, y_train)\n",
    "predictions_selected = model_selected_features.predict(X_test_selected_minmax)\n",
    "accuracy_selected = accuracy_score(y_test, predictions_selected)\n",
    "\n",
    "print(f'Accuracy with feature selection (Random Forest): {accuracy_selected:.6f}')"
   ]
  },
  {
   "cell_type": "code",
   "execution_count": 24,
   "metadata": {
    "tags": []
   },
   "outputs": [
    {
     "data": {
      "image/png": "[encoded data removed]",
      "text/plain": [
       "<Figure size 640x480 with 2 Axes>"
      ]
     },
     "metadata": {},
     "output_type": "display_data"
    }
   ],
   "source": [
    "cm = confusion_matrix(y_test, predictions_all, labels=model_all_features.classes_)\n",
    "disp = ConfusionMatrixDisplay(confusion_matrix=cm,\n",
    "                              display_labels=model_all_features.classes_)\n",
    "disp.plot()\n",
    "plt.show()"
   ]
  },
  {
   "cell_type": "markdown",
   "metadata": {
    "tags": []
   },
   "source": [
    "### TODO:\n",
    "Refaire ce qu'il y a ci-dessous mais pour les autres models également. (si possible)"
   ]
  },
  {
   "cell_type": "code",
   "execution_count": 25,
   "metadata": {
    "id": "OhA1WMUMcD1o"
   },
   "outputs": [],
   "source": [
    "accuracies = np.zeros(X.shape[1])\n",
    "for i in range (1, X.shape[1] + 1):\n",
    "    model = LogisticRegression()\n",
    "    rfe = RFE(model, n_features_to_select=i)\n",
    "    rfe.fit(X_minmax, y)\n",
    "\n",
    "    # Get the ranking of features\n",
    "    feature_ranking = pd.DataFrame({\n",
    "        'feature': X.columns,\n",
    "        'rank': rfe.ranking_\n",
    "    }).sort_values(by='rank')\n",
    "    # top i from RFE\n",
    "    selected_features = feature_ranking[feature_ranking['rank'] == 1]['feature']\n",
    "    X_train_selected = X_train[selected_features]\n",
    "    X_test_selected = X_test[selected_features]\n",
    "\n",
    "    X_train_selected_minmax = scale.fit_transform(X_train_selected)\n",
    "    X_test_selected_minmax = scale.fit_transform(X_test_selected)\n",
    "\n",
    "    model_selected_features = LogisticRegression(max_iter=200)\n",
    "    model_selected_features.fit(X_train_selected_minmax, y_train)\n",
    "    predictions_selected = model_selected_features.predict(X_test_selected_minmax)\n",
    "    accuracies[i - 1] = accuracy_score(y_test, predictions_selected)"
   ]
  },
  {
   "cell_type": "code",
   "execution_count": 26,
   "metadata": {
    "colab": {
     "base_uri": "https://localhost:8080/",
     "height": 472
    },
    "id": "oIFV1zQocGrM",
    "outputId": "69c40e2e-6393-46e8-d76e-950b967d46f3"
   },
   "outputs": [
    {
     "data": {
      "image/png": "[encoded data removed]",
      "text/plain": [
       "<Figure size 640x480 with 1 Axes>"
      ]
     },
     "metadata": {},
     "output_type": "display_data"
    }
   ],
   "source": [
    "import matplotlib.pyplot as plt\n",
    "# Plot accuracy vs. number of features\n",
    "plt.plot(np.arange(1, X.shape[1] + 1), accuracies, marker='o')\n",
    "plt.xlabel(\"Number of Features Selected\")\n",
    "plt.ylabel(\"Accuracy\")\n",
    "plt.title(\"Model Accuracy vs. Number of Features Selected\")\n",
    "plt.grid()\n",
    "plt.show()"
   ]
  },
  {
   "cell_type": "code",
   "execution_count": 27,
   "metadata": {
    "colab": {
     "base_uri": "https://localhost:8080/"
    },
    "id": "kT3sTEpZcI_I",
    "outputId": "095c1ae9-944b-4337-e740-d8b5b9d12dcf"
   },
   "outputs": [
    {
     "name": "stdout",
     "output_type": "stream",
     "text": [
      "Max accuracy is 0.6254, with 5 features selected !\n"
     ]
    }
   ],
   "source": [
    "i = np.argmax(accuracies)\n",
    "print(f\"Max accuracy is {accuracies[i]}, with {i + 1} features selected !\")"
   ]
  }
 ],
 "metadata": {
  "colab": {
   "provenance": []
  },
  "kernelspec": {
   "display_name": "Python 3 (ipykernel)",
   "language": "python",
   "name": "python3"
  },
  "language_info": {
   "codemirror_mode": {
    "name": "ipython",
    "version": 3
   },
   "file_extension": ".py",
   "mimetype": "text/x-python",
   "name": "python",
   "nbconvert_exporter": "python",
   "pygments_lexer": "ipython3",
   "version": "3.10.7"
  }
 },
 "nbformat": 4,
 "nbformat_minor": 4
}
