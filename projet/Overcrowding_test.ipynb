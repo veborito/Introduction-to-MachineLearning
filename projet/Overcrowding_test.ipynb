{
 "cells": [
  {
   "cell_type": "markdown",
   "metadata": {
    "id": "vAB0Ght15Ypd"
   },
   "source": [
    "### Data generation"
   ]
  },
  {
   "cell_type": "code",
   "execution_count": 1,
   "metadata": {
    "id": "0kJD-jPB7ETf",
    "tags": []
   },
   "outputs": [],
   "source": [
    "import numpy as np\n",
    "import pandas as pd\n",
    "import matplotlib.pyplot as plt\n",
    "from GenerativeModel import ImpactOnOvercrowding"
   ]
  },
  {
   "cell_type": "code",
   "execution_count": 2,
   "metadata": {
    "colab": {
     "base_uri": "https://localhost:8080/",
     "height": 261
    },
    "id": "mDiOGKfKCn-e",
    "outputId": "bbee31ae-36a1-44f5-ebca-9b9874de24bc",
    "tags": []
   },
   "outputs": [
    {
     "data": {
      "text/html": [
       "<div>\n",
       "<style scoped>\n",
       "    .dataframe tbody tr th:only-of-type {\n",
       "        vertical-align: middle;\n",
       "    }\n",
       "\n",
       "    .dataframe tbody tr th {\n",
       "        vertical-align: top;\n",
       "    }\n",
       "\n",
       "    .dataframe thead th {\n",
       "        text-align: right;\n",
       "    }\n",
       "</style>\n",
       "<table border=\"1\" class=\"dataframe\">\n",
       "  <thead>\n",
       "    <tr style=\"text-align: right;\">\n",
       "      <th></th>\n",
       "      <th>Age</th>\n",
       "      <th>Gender</th>\n",
       "      <th>Income</th>\n",
       "      <th>Remote Working Days</th>\n",
       "      <th>Has Car</th>\n",
       "      <th>First-Class</th>\n",
       "      <th>Price</th>\n",
       "      <th>Punctuality</th>\n",
       "      <th>Duration</th>\n",
       "      <th>Frequency</th>\n",
       "      <th>Overcrowding</th>\n",
       "      <th>Satisfaction</th>\n",
       "    </tr>\n",
       "  </thead>\n",
       "  <tbody>\n",
       "    <tr>\n",
       "      <th>0</th>\n",
       "      <td>60</td>\n",
       "      <td>M</td>\n",
       "      <td>84000</td>\n",
       "      <td>1</td>\n",
       "      <td>no</td>\n",
       "      <td>1</td>\n",
       "      <td>4</td>\n",
       "      <td>4</td>\n",
       "      <td>3</td>\n",
       "      <td>3</td>\n",
       "      <td>1</td>\n",
       "      <td>1</td>\n",
       "    </tr>\n",
       "    <tr>\n",
       "      <th>1</th>\n",
       "      <td>60</td>\n",
       "      <td>M</td>\n",
       "      <td>109000</td>\n",
       "      <td>4</td>\n",
       "      <td>no</td>\n",
       "      <td>1</td>\n",
       "      <td>5</td>\n",
       "      <td>5</td>\n",
       "      <td>5</td>\n",
       "      <td>0</td>\n",
       "      <td>1</td>\n",
       "      <td>1</td>\n",
       "    </tr>\n",
       "    <tr>\n",
       "      <th>2</th>\n",
       "      <td>60</td>\n",
       "      <td>F</td>\n",
       "      <td>84000</td>\n",
       "      <td>2</td>\n",
       "      <td>no</td>\n",
       "      <td>0</td>\n",
       "      <td>4</td>\n",
       "      <td>5</td>\n",
       "      <td>3</td>\n",
       "      <td>0</td>\n",
       "      <td>5</td>\n",
       "      <td>0</td>\n",
       "    </tr>\n",
       "    <tr>\n",
       "      <th>3</th>\n",
       "      <td>60</td>\n",
       "      <td>F</td>\n",
       "      <td>60000</td>\n",
       "      <td>1</td>\n",
       "      <td>no</td>\n",
       "      <td>0</td>\n",
       "      <td>2</td>\n",
       "      <td>5</td>\n",
       "      <td>2</td>\n",
       "      <td>5</td>\n",
       "      <td>3</td>\n",
       "      <td>1</td>\n",
       "    </tr>\n",
       "    <tr>\n",
       "      <th>4</th>\n",
       "      <td>90</td>\n",
       "      <td>M</td>\n",
       "      <td>109000</td>\n",
       "      <td>3</td>\n",
       "      <td>no</td>\n",
       "      <td>1</td>\n",
       "      <td>4</td>\n",
       "      <td>4</td>\n",
       "      <td>2</td>\n",
       "      <td>4</td>\n",
       "      <td>1</td>\n",
       "      <td>1</td>\n",
       "    </tr>\n",
       "  </tbody>\n",
       "</table>\n",
       "</div>"
      ],
      "text/plain": [
       "  Age Gender  Income Remote Working Days Has Car First-Class Price  \\\n",
       "0  60      M   84000                   1      no           1     4   \n",
       "1  60      M  109000                   4      no           1     5   \n",
       "2  60      F   84000                   2      no           0     4   \n",
       "3  60      F   60000                   1      no           0     2   \n",
       "4  90      M  109000                   3      no           1     4   \n",
       "\n",
       "  Punctuality Duration Frequency Overcrowding Satisfaction  \n",
       "0           4        3         3            1            1  \n",
       "1           5        5         0            1            1  \n",
       "2           5        3         0            5            0  \n",
       "3           5        2         5            3            1  \n",
       "4           4        2         4            1            1  "
      ]
     },
     "execution_count": 2,
     "metadata": {},
     "output_type": "execute_result"
    }
   ],
   "source": [
    "# Generation of synthetic data\n",
    "np.random.seed(1)\n",
    "gen = ImpactOnOvercrowding(1000)\n",
    "\n",
    "data = gen.df\n",
    "\n",
    "data.head()"
   ]
  },
  {
   "cell_type": "code",
   "execution_count": 3,
   "metadata": {
    "tags": []
   },
   "outputs": [
    {
     "data": {
      "text/plain": [
       "[]"
      ]
     },
     "execution_count": 3,
     "metadata": {},
     "output_type": "execute_result"
    },
    {
     "data": {
      "image/png": "[encoded data removed]",
      "text/plain": [
       "<Figure size 640x480 with 1 Axes>"
      ]
     },
     "metadata": {},
     "output_type": "display_data"
    }
   ],
   "source": [
    "satisf = data['Satisfaction'].value_counts()\n",
    "plt.bar([\"Unsatified\", \"Satisfied\"], [satisf['0'], satisf['1']])\n",
    "plt.plot()"
   ]
  },
  {
   "cell_type": "markdown",
   "metadata": {
    "id": "W_qYquUdWFFm"
   },
   "source": [
    "### Simple Pipeline"
   ]
  },
  {
   "cell_type": "code",
   "execution_count": 4,
   "metadata": {
    "id": "_rgNU3YDDLKu"
   },
   "outputs": [],
   "source": [
    "from sklearn.pipeline import Pipeline\n",
    "from sklearn.preprocessing import MinMaxScaler\n",
    "from sklearn.preprocessing import OneHotEncoder\n",
    "from sklearn.compose import ColumnTransformer\n",
    "from sklearn.model_selection import train_test_split"
   ]
  },
  {
   "cell_type": "code",
   "execution_count": 5,
   "metadata": {
    "id": "vusO9Yr1VLBU"
   },
   "outputs": [],
   "source": [
    "numeric_features = [ \"Age\", \"Income\", \"Remote Working Days\",\n",
    "                    \"Price\", \"Punctuality\", \"Duration\", \"Frequency\",\n",
    "                    \"Overcrowding\"]\n",
    "numeric_transformer = Pipeline(\n",
    "    steps=[(\"scaler\", MinMaxScaler())]\n",
    ")\n",
    "\n",
    "categorical_features = [\"Has Car\", \"Gender\",\"First-Class\"]\n",
    "categorical_transformer = Pipeline(\n",
    "    steps=[\n",
    "        (\"encoder\", OneHotEncoder())\n",
    "    ]\n",
    ")\n",
    "preprocessor = ColumnTransformer(\n",
    "    transformers=[\n",
    "        (\"num\", numeric_transformer, numeric_features),\n",
    "        (\"cat\", categorical_transformer, categorical_features),\n",
    "    ]\n",
    ")\n"
   ]
  },
  {
   "cell_type": "code",
   "execution_count": 6,
   "metadata": {
    "id": "F0jsOlr8VNuA"
   },
   "outputs": [],
   "source": [
    "from sklearn.ensemble import RandomForestClassifier\n",
    "from sklearn.linear_model import LogisticRegression\n",
    "from sklearn.neighbors import KNeighborsClassifier\n",
    "from sklearn.linear_model import Perceptron\n",
    "from sklearn.metrics import accuracy_score"
   ]
  },
  {
   "cell_type": "code",
   "execution_count": 7,
   "metadata": {
    "tags": []
   },
   "outputs": [],
   "source": [
    "def SimplePipeline(simulator, data_size):\n",
    "    np.random.seed(1)\n",
    "    gen = simulator(data_size)\n",
    "    data = gen.df\n",
    "    \n",
    "    X = data.copy().drop(['Satisfaction'], axis=1)\n",
    "    y = data['Satisfaction']\n",
    "\n",
    "    X_train, X_test, y_train, y_test = train_test_split(X, y, test_size=0.33)\n",
    "    \n",
    "    def my_pipeline(model, preprocessor):\n",
    "        clf = Pipeline(\n",
    "        steps=[(\"preprocessor\", preprocessor),\n",
    "               (\"classifier\", model)]\n",
    "        )\n",
    "        clf.fit(X_train, y_train)\n",
    "        return clf.score(X_test, y_test)\n",
    "\n",
    "    score_random_forest = my_pipeline(RandomForestClassifier(), preprocessor)\n",
    "    score_logistic = my_pipeline(LogisticRegression(), preprocessor)\n",
    "    score_perceptron = my_pipeline(Perceptron(), preprocessor)\n",
    "    score_knn = my_pipeline(KNeighborsClassifier(), preprocessor)\n",
    "    \n",
    "    print(f\"Simulator = {gen}, Size of data = {data_size}\")\n",
    "    print(f\"Accuracy score for Random Forest Classifier: {score_random_forest:.4f}\")\n",
    "    print(f\"Accuracy score for Logistic Regression: {score_logistic:.4f}\")\n",
    "    print(f\"Accuracy score for Single Layer Perceptron: {score_perceptron:.4f}\")\n",
    "    print(f\"Accuracy score for KNeighborsClassifier: {score_knn:.4f}\")\n",
    "\n",
    "    "
   ]
  },
  {
   "cell_type": "code",
   "execution_count": 8,
   "metadata": {},
   "outputs": [
    {
     "name": "stdout",
     "output_type": "stream",
     "text": [
      "Simulator = ImpactOnOvercrowding, Size of data = 10000\n",
      "Accuracy score for Random Forest Classifier: 0.8585\n",
      "Accuracy score for Logistic Regression: 0.8494\n",
      "Accuracy score for Single Layer Perceptron: 0.8448\n",
      "Accuracy score for KNeighborsClassifier: 0.8388\n"
     ]
    }
   ],
   "source": [
    "SimplePipeline(ImpactOnOvercrowding, 10000)"
   ]
  },
  {
   "cell_type": "markdown",
   "metadata": {
    "id": "P_bcKFcbboF-"
   },
   "source": [
    "### Feature selection"
   ]
  },
  {
   "cell_type": "markdown",
   "metadata": {},
   "source": [
    "#### Why feature selection ?\n",
    "\n",
    "Because we need to be certain that the results match the simulation. So we do this principally to check if our the results make sense in regard of the simulation. "
   ]
  },
  {
   "cell_type": "code",
   "execution_count": 9,
   "metadata": {
    "id": "2ctlV_ZZWBUP"
   },
   "outputs": [],
   "source": [
    "from GenerativeModel import NoIncomeDependentSatisfaction"
   ]
  },
  {
   "cell_type": "code",
   "execution_count": 10,
   "metadata": {
    "colab": {
     "base_uri": "https://localhost:8080/",
     "height": 206
    },
    "id": "Rr5q9GombrJl",
    "outputId": "7f8093e4-928f-4502-e6ba-72dc847916e5"
   },
   "outputs": [
    {
     "data": {
      "text/html": [
       "<div>\n",
       "<style scoped>\n",
       "    .dataframe tbody tr th:only-of-type {\n",
       "        vertical-align: middle;\n",
       "    }\n",
       "\n",
       "    .dataframe tbody tr th {\n",
       "        vertical-align: top;\n",
       "    }\n",
       "\n",
       "    .dataframe thead th {\n",
       "        text-align: right;\n",
       "    }\n",
       "</style>\n",
       "<table border=\"1\" class=\"dataframe\">\n",
       "  <thead>\n",
       "    <tr style=\"text-align: right;\">\n",
       "      <th></th>\n",
       "      <th>Age</th>\n",
       "      <th>Gender</th>\n",
       "      <th>Income</th>\n",
       "      <th>Remote Working Days</th>\n",
       "      <th>Has Car</th>\n",
       "      <th>First-Class</th>\n",
       "      <th>Price</th>\n",
       "      <th>Punctuality</th>\n",
       "      <th>Duration</th>\n",
       "      <th>Frequency</th>\n",
       "      <th>Overcrowding</th>\n",
       "      <th>Satisfaction</th>\n",
       "    </tr>\n",
       "  </thead>\n",
       "  <tbody>\n",
       "    <tr>\n",
       "      <th>0</th>\n",
       "      <td>60</td>\n",
       "      <td>0</td>\n",
       "      <td>84000</td>\n",
       "      <td>4</td>\n",
       "      <td>0</td>\n",
       "      <td>0</td>\n",
       "      <td>3</td>\n",
       "      <td>5</td>\n",
       "      <td>4</td>\n",
       "      <td>1</td>\n",
       "      <td>3</td>\n",
       "      <td>1</td>\n",
       "    </tr>\n",
       "    <tr>\n",
       "      <th>1</th>\n",
       "      <td>15</td>\n",
       "      <td>1</td>\n",
       "      <td>50000</td>\n",
       "      <td>3</td>\n",
       "      <td>0</td>\n",
       "      <td>0</td>\n",
       "      <td>2</td>\n",
       "      <td>4</td>\n",
       "      <td>3</td>\n",
       "      <td>3</td>\n",
       "      <td>2</td>\n",
       "      <td>1</td>\n",
       "    </tr>\n",
       "    <tr>\n",
       "      <th>2</th>\n",
       "      <td>60</td>\n",
       "      <td>1</td>\n",
       "      <td>109000</td>\n",
       "      <td>3</td>\n",
       "      <td>0</td>\n",
       "      <td>1</td>\n",
       "      <td>5</td>\n",
       "      <td>5</td>\n",
       "      <td>5</td>\n",
       "      <td>3</td>\n",
       "      <td>1</td>\n",
       "      <td>1</td>\n",
       "    </tr>\n",
       "    <tr>\n",
       "      <th>3</th>\n",
       "      <td>90</td>\n",
       "      <td>0</td>\n",
       "      <td>84000</td>\n",
       "      <td>4</td>\n",
       "      <td>1</td>\n",
       "      <td>0</td>\n",
       "      <td>4</td>\n",
       "      <td>5</td>\n",
       "      <td>5</td>\n",
       "      <td>0</td>\n",
       "      <td>1</td>\n",
       "      <td>1</td>\n",
       "    </tr>\n",
       "    <tr>\n",
       "      <th>4</th>\n",
       "      <td>15</td>\n",
       "      <td>1</td>\n",
       "      <td>1000</td>\n",
       "      <td>2</td>\n",
       "      <td>0</td>\n",
       "      <td>0</td>\n",
       "      <td>2</td>\n",
       "      <td>4</td>\n",
       "      <td>4</td>\n",
       "      <td>1</td>\n",
       "      <td>3</td>\n",
       "      <td>1</td>\n",
       "    </tr>\n",
       "  </tbody>\n",
       "</table>\n",
       "</div>"
      ],
      "text/plain": [
       "  Age  Gender  Income Remote Working Days  Has Car First-Class Price  \\\n",
       "0  60       0   84000                   4        0           0     3   \n",
       "1  15       1   50000                   3        0           0     2   \n",
       "2  60       1  109000                   3        0           1     5   \n",
       "3  90       0   84000                   4        1           0     4   \n",
       "4  15       1    1000                   2        0           0     2   \n",
       "\n",
       "  Punctuality Duration Frequency Overcrowding Satisfaction  \n",
       "0           5        4         1            3            1  \n",
       "1           4        3         3            2            1  \n",
       "2           5        5         3            1            1  \n",
       "3           5        5         0            1            1  \n",
       "4           4        4         1            3            1  "
      ]
     },
     "execution_count": 10,
     "metadata": {},
     "output_type": "execute_result"
    }
   ],
   "source": [
    "# Generation of synthetic data\n",
    "np.random.seed(1)\n",
    "gen = ImpactOnOvercrowding(10000)\n",
    "data = gen.df\n",
    "data['Gender'] = data['Gender'].map({'M': 1, 'F': 0})\n",
    "data['Has Car'] = data['Has Car'].map({'yes': 1, 'no': 0})\n",
    "data.head()"
   ]
  },
  {
   "cell_type": "code",
   "execution_count": 11,
   "metadata": {
    "colab": {
     "base_uri": "https://localhost:8080/"
    },
    "id": "cnt4XO_tbsf8",
    "outputId": "73b9187e-3b12-4a7e-8f66-9c799c4a804d"
   },
   "outputs": [
    {
     "name": "stdout",
     "output_type": "stream",
     "text": [
      "correlation: Satisfaction           1.000000\n",
      "Overcrowding           0.523521\n",
      "Punctuality            0.507186\n",
      "First-Class            0.240466\n",
      "Duration               0.088040\n",
      "Has Car                0.044242\n",
      "Remote Working Days    0.030754\n",
      "Frequency              0.024494\n",
      "Income                 0.018243\n",
      "Price                  0.007937\n",
      "Age                    0.004291\n",
      "Gender                 0.000884\n",
      "Name: Satisfaction, dtype: float64\n"
     ]
    }
   ],
   "source": [
    "# Filter method\n",
    "correlations = data.corr()['Satisfaction'].abs().sort_values(ascending=False)\n",
    "\n",
    "print('correlation:',correlations)"
   ]
  },
  {
   "cell_type": "code",
   "execution_count": 12,
   "metadata": {
    "colab": {
     "base_uri": "https://localhost:8080/"
    },
    "id": "uWdIjC9TbvDc",
    "outputId": "102d4fee-1edc-46a8-fc2c-118588b66bdb"
   },
   "outputs": [
    {
     "name": "stdout",
     "output_type": "stream",
     "text": [
      "                feature  rank\n",
      "5           First-Class     1\n",
      "6                 Price     1\n",
      "7           Punctuality     1\n",
      "8              Duration     1\n",
      "10         Overcrowding     1\n",
      "3   Remote Working Days     2\n",
      "4               Has Car     3\n",
      "1                Gender     4\n",
      "9             Frequency     5\n",
      "2                Income     6\n",
      "0                   Age     7\n"
     ]
    }
   ],
   "source": [
    "# RFE\n",
    "import pandas as pd\n",
    "from sklearn.feature_selection import RFE\n",
    "from sklearn.linear_model import LinearRegression\n",
    "from sklearn.linear_model import LogisticRegression\n",
    "from sklearn.preprocessing import MinMaxScaler\n",
    "\n",
    "# Define the model using linear regression\n",
    "model = LogisticRegression()\n",
    "\n",
    "# Define RFE with the model and specify the number of features to select\n",
    "rfe = RFE(model, n_features_to_select=5)\n",
    "\n",
    "# Separate features and target variable\n",
    "X = data.drop(columns=['Satisfaction'])\n",
    "y = data['Satisfaction']\n",
    "\n",
    "scale = MinMaxScaler()\n",
    "X_minmax = scale.fit_transform(X)\n",
    "# Fit RFE to the data\n",
    "rfe.fit(X_minmax, y)\n",
    "\n",
    "# Get the ranking of features\n",
    "feature_ranking = pd.DataFrame({\n",
    "    'feature': X.columns,\n",
    "    'rank': rfe.ranking_\n",
    "}).sort_values(by='rank')\n",
    "\n",
    "print(feature_ranking)"
   ]
  },
  {
   "cell_type": "code",
   "execution_count": 13,
   "metadata": {
    "colab": {
     "base_uri": "https://localhost:8080/"
    },
    "id": "tHKY9xjkb9vC",
    "outputId": "07301ddc-3a6f-41ea-f35b-609fb00af154"
   },
   "outputs": [
    {
     "name": "stdout",
     "output_type": "stream",
     "text": [
      "                feature  importance\n",
      "10         Overcrowding    0.303314\n",
      "7           Punctuality    0.255879\n",
      "3   Remote Working Days    0.074964\n",
      "9             Frequency    0.064976\n",
      "8              Duration    0.062072\n",
      "6                 Price    0.056889\n",
      "2                Income    0.054680\n",
      "0                   Age    0.051112\n",
      "5           First-Class    0.032383\n",
      "1                Gender    0.023098\n",
      "4               Has Car    0.020633\n"
     ]
    }
   ],
   "source": [
    "# Random Forest\n",
    "\n",
    "from sklearn.ensemble import RandomForestClassifier\n",
    "\n",
    "# Train a Random Forest model\n",
    "model = RandomForestClassifier()\n",
    "model.fit(X_minmax, y)\n",
    "\n",
    "# Get feature importances\n",
    "importances = pd.DataFrame({\n",
    "    'feature': X.columns,\n",
    "    'importance': model.feature_importances_\n",
    "}).sort_values(by='importance', ascending=False)\n",
    "\n",
    "print(importances)"
   ]
  },
  {
   "cell_type": "code",
   "execution_count": 14,
   "metadata": {
    "colab": {
     "base_uri": "https://localhost:8080/"
    },
    "id": "OfANTUGScAKU",
    "outputId": "38c26362-b8a6-457e-cdfe-31dbec272e6e"
   },
   "outputs": [
    {
     "name": "stdout",
     "output_type": "stream",
     "text": [
      "Accuracy without feature selection: 0.845667\n",
      "Accuracy with feature selection (RFE): 0.846000\n",
      "Accuracy with feature selection (Filter): 0.846000\n",
      "Accuracy with feature selection (Random Forest): 0.841333\n"
     ]
    }
   ],
   "source": [
    "# comparing the different models\n",
    "\n",
    "from sklearn.linear_model import LogisticRegression\n",
    "from sklearn.metrics import accuracy_score\n",
    "from sklearn.model_selection import train_test_split\n",
    "\n",
    "# Split data\n",
    "X_train, X_test, y_train, y_test = train_test_split(X, y, test_size=0.3, random_state=42)\n",
    "\n",
    "from sklearn.metrics import confusion_matrix, ConfusionMatrixDisplay\n",
    "\n",
    "scale = MinMaxScaler()\n",
    "X_train_minmax = scale.fit_transform(X_train)\n",
    "X_test_minmax = scale.fit_transform(X_test)\n",
    "\n",
    "# Model without feature selection\n",
    "model_all_features = LogisticRegression(max_iter=200)\n",
    "model_all_features.fit(X_train_minmax, y_train)\n",
    "predictions_all = model_all_features.predict(X_test_minmax)\n",
    "accuracy_all = accuracy_score(y_test, predictions_all)\n",
    "print(f'Accuracy without feature selection: {accuracy_all:.6f}')\n",
    "\n",
    "# Model with selected features (top 5 from RFE)\n",
    "selected_features = feature_ranking[feature_ranking['rank'] == 1]['feature']\n",
    "X_train_selected = X_train[selected_features]\n",
    "X_test_selected = X_test[selected_features]\n",
    "\n",
    "X_train_selected_minmax = scale.fit_transform(X_train_selected)\n",
    "X_test_selected_minmax = scale.fit_transform(X_test_selected)\n",
    "\n",
    "model_selected_features = LogisticRegression(max_iter=200)\n",
    "model_selected_features.fit(X_train_selected_minmax, y_train)\n",
    "predictions_selected = model_selected_features.predict(X_test_selected_minmax)\n",
    "accuracy_selected = accuracy_score(y_test, predictions_selected)\n",
    "\n",
    "print(f'Accuracy with feature selection (RFE): {accuracy_selected:.6f}')\n",
    "\n",
    "# Model with selected features (correleted filter > 0.4)\n",
    "X_train_selected = X_train.loc[:,[\"Price\", \"Overcrowding\"]]\n",
    "X_test_selected = X_test.loc[:,[\"Price\", \"Overcrowding\"]]\n",
    "\n",
    "model_selected_features = LogisticRegression(max_iter=200)\n",
    "model_selected_features.fit(X_train_selected_minmax, y_train)\n",
    "predictions_selected = model_selected_features.predict(X_test_selected_minmax)\n",
    "accuracy_selected = accuracy_score(y_test, predictions_selected)\n",
    "\n",
    "print(f'Accuracy with feature selection (Filter): {accuracy_selected:.6f}')\n",
    "\n",
    "# Model with selected features (Random Forest)\n",
    "selected_features = importances[importances['importance'] > 0.1]['feature']\n",
    "X_train_selected = X_train[selected_features]\n",
    "X_test_selected = X_test[selected_features]\n",
    "\n",
    "X_train_selected_minmax = scale.fit_transform(X_train_selected)\n",
    "X_test_selected_minmax = scale.fit_transform(X_test_selected)\n",
    "\n",
    "model_selected_features = LogisticRegression(max_iter=200)\n",
    "model_selected_features.fit(X_train_selected_minmax, y_train)\n",
    "predictions_selected = model_selected_features.predict(X_test_selected_minmax)\n",
    "accuracy_selected = accuracy_score(y_test, predictions_selected)\n",
    "\n",
    "print(f'Accuracy with feature selection (Random Forest): {accuracy_selected:.6f}')"
   ]
  },
  {
   "cell_type": "code",
   "execution_count": 15,
   "metadata": {
    "tags": []
   },
   "outputs": [
    {
     "data": {
      "image/png": "[encoded data removed]",
      "text/plain": [
       "<Figure size 640x480 with 2 Axes>"
      ]
     },
     "metadata": {},
     "output_type": "display_data"
    }
   ],
   "source": [
    "cm = confusion_matrix(y_test, predictions_all, labels=model_all_features.classes_)\n",
    "disp = ConfusionMatrixDisplay(confusion_matrix=cm,\n",
    "                              display_labels=model_all_features.classes_)\n",
    "disp.plot()\n",
    "plt.show()"
   ]
  },
  {
   "cell_type": "markdown",
   "metadata": {
    "tags": []
   },
   "source": [
    "### Key intake:\n",
    "\n",
    "On remarque que le random forest classifier performe moins bien que les autres lorsque l'on se fie à son classement d'importance."
   ]
  },
  {
   "cell_type": "code",
   "execution_count": 16,
   "metadata": {
    "id": "OhA1WMUMcD1o"
   },
   "outputs": [],
   "source": [
    "accuracies = np.zeros(X.shape[1])\n",
    "for i in range (1, X.shape[1] + 1):\n",
    "    model = LogisticRegression()\n",
    "    rfe = RFE(model, n_features_to_select=i)\n",
    "    rfe.fit(X_minmax, y)\n",
    "\n",
    "    # Get the ranking of features\n",
    "    feature_ranking = pd.DataFrame({\n",
    "        'feature': X.columns,\n",
    "        'rank': rfe.ranking_\n",
    "    }).sort_values(by='rank')\n",
    "    # top i from RFE\n",
    "    selected_features = feature_ranking[feature_ranking['rank'] == 1]['feature']\n",
    "    X_train_selected = X_train[selected_features]\n",
    "    X_test_selected = X_test[selected_features]\n",
    "\n",
    "    X_train_selected_minmax = scale.fit_transform(X_train_selected)\n",
    "    X_test_selected_minmax = scale.fit_transform(X_test_selected)\n",
    "\n",
    "    model_selected_features = LogisticRegression(max_iter=200)\n",
    "    model_selected_features.fit(X_train_selected_minmax, y_train)\n",
    "    predictions_selected = model_selected_features.predict(X_test_selected_minmax)\n",
    "    accuracies[i - 1] = accuracy_score(y_test, predictions_selected)"
   ]
  },
  {
   "cell_type": "code",
   "execution_count": 17,
   "metadata": {
    "colab": {
     "base_uri": "https://localhost:8080/",
     "height": 472
    },
    "id": "oIFV1zQocGrM",
    "outputId": "69c40e2e-6393-46e8-d76e-950b967d46f3"
   },
   "outputs": [
    {
     "data": {
      "image/png": "[encoded data removed]",
      "text/plain": [
       "<Figure size 640x480 with 1 Axes>"
      ]
     },
     "metadata": {},
     "output_type": "display_data"
    }
   ],
   "source": [
    "import matplotlib.pyplot as plt\n",
    "# Plot accuracy vs. number of features\n",
    "plt.plot(np.arange(1, X.shape[1] + 1), accuracies, marker='o')\n",
    "plt.xlabel(\"Number of Features Selected\")\n",
    "plt.ylabel(\"Accuracy\")\n",
    "plt.title(\"Model Accuracy vs. Number of Features Selected\")\n",
    "plt.grid()\n",
    "plt.show()"
   ]
  },
  {
   "cell_type": "code",
   "execution_count": 18,
   "metadata": {
    "colab": {
     "base_uri": "https://localhost:8080/"
    },
    "id": "kT3sTEpZcI_I",
    "outputId": "095c1ae9-944b-4337-e740-d8b5b9d12dcf"
   },
   "outputs": [
    {
     "name": "stdout",
     "output_type": "stream",
     "text": [
      "Max accuracy is 0.8473333333333334, with 6 features selected !\n"
     ]
    }
   ],
   "source": [
    "i = np.argmax(accuracies)\n",
    "print(f\"Max accuracy is {accuracies[i]}, with {i + 1} features selected !\")"
   ]
  }
 ],
 "metadata": {
  "colab": {
   "provenance": []
  },
  "kernelspec": {
   "display_name": "Python 3 (ipykernel)",
   "language": "python",
   "name": "python3"
  },
  "language_info": {
   "codemirror_mode": {
    "name": "ipython",
    "version": 3
   },
   "file_extension": ".py",
   "mimetype": "text/x-python",
   "name": "python",
   "nbconvert_exporter": "python",
   "pygments_lexer": "ipython3",
   "version": "3.10.7"
  }
 },
 "nbformat": 4,
 "nbformat_minor": 4
}
