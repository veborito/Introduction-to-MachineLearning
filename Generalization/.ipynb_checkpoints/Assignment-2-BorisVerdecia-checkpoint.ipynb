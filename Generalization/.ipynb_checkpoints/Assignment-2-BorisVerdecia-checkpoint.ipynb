{
 "cells": [
  {
   "cell_type": "markdown",
   "id": "41b2e3fe-f39d-4483-82d4-4bb01ad6da6e",
   "metadata": {},
   "source": [
    "# Assignment 2"
   ]
  },
  {
   "cell_type": "code",
   "execution_count": 16,
   "id": "d843966a-8485-49ce-a1a4-38e83021d3fe",
   "metadata": {
    "tags": []
   },
   "outputs": [],
   "source": [
    "import pandas as pd\n",
    "import numpy as np\n",
    "import matplotlib.pyplot as plt\n",
    "from imblearn.over_sampling import RandomOverSampler\n",
    "from sklearn.model_selection import train_test_split\n",
    "from sklearn.preprocessing import StandardScaler,MinMaxScaler\n",
    "from sklearn.neighbors import KNeighborsClassifier\n",
    "from sklearn.linear_model import Perceptron\n",
    "from sklearn.metrics import classification_report, confusion_matrix,accuracy_score,ConfusionMatrixDisplay\n",
    "from sklearn.model_selection import cross_val_score\n"
   ]
  },
  {
   "cell_type": "code",
   "execution_count": 17,
   "id": "2fc21d83-6395-4229-b957-f25040d12aa9",
   "metadata": {
    "tags": []
   },
   "outputs": [
    {
     "data": {
      "text/html": [
       "<div>\n",
       "<style scoped>\n",
       "    .dataframe tbody tr th:only-of-type {\n",
       "        vertical-align: middle;\n",
       "    }\n",
       "\n",
       "    .dataframe tbody tr th {\n",
       "        vertical-align: top;\n",
       "    }\n",
       "\n",
       "    .dataframe thead th {\n",
       "        text-align: right;\n",
       "    }\n",
       "</style>\n",
       "<table border=\"1\" class=\"dataframe\">\n",
       "  <thead>\n",
       "    <tr style=\"text-align: right;\">\n",
       "      <th></th>\n",
       "      <th>Height</th>\n",
       "      <th>Weight</th>\n",
       "      <th>Gender</th>\n",
       "      <th>Age</th>\n",
       "      <th>Sporthours/week</th>\n",
       "      <th>Location</th>\n",
       "    </tr>\n",
       "  </thead>\n",
       "  <tbody>\n",
       "    <tr>\n",
       "      <th>0</th>\n",
       "      <td>178.00</td>\n",
       "      <td>81</td>\n",
       "      <td>1</td>\n",
       "      <td>49</td>\n",
       "      <td>7</td>\n",
       "      <td>1</td>\n",
       "    </tr>\n",
       "    <tr>\n",
       "      <th>1</th>\n",
       "      <td>180.00</td>\n",
       "      <td>75</td>\n",
       "      <td>1</td>\n",
       "      <td>22</td>\n",
       "      <td>16</td>\n",
       "      <td>1</td>\n",
       "    </tr>\n",
       "    <tr>\n",
       "      <th>2</th>\n",
       "      <td>169.00</td>\n",
       "      <td>53</td>\n",
       "      <td>0</td>\n",
       "      <td>20</td>\n",
       "      <td>0</td>\n",
       "      <td>2</td>\n",
       "    </tr>\n",
       "    <tr>\n",
       "      <th>3</th>\n",
       "      <td>183.00</td>\n",
       "      <td>80</td>\n",
       "      <td>1</td>\n",
       "      <td>25</td>\n",
       "      <td>1</td>\n",
       "      <td>1</td>\n",
       "    </tr>\n",
       "    <tr>\n",
       "      <th>4</th>\n",
       "      <td>190.00</td>\n",
       "      <td>65</td>\n",
       "      <td>1</td>\n",
       "      <td>25</td>\n",
       "      <td>5</td>\n",
       "      <td>0</td>\n",
       "    </tr>\n",
       "    <tr>\n",
       "      <th>5</th>\n",
       "      <td>178.00</td>\n",
       "      <td>82</td>\n",
       "      <td>1</td>\n",
       "      <td>21</td>\n",
       "      <td>4</td>\n",
       "      <td>0</td>\n",
       "    </tr>\n",
       "    <tr>\n",
       "      <th>6</th>\n",
       "      <td>188.00</td>\n",
       "      <td>85</td>\n",
       "      <td>1</td>\n",
       "      <td>25</td>\n",
       "      <td>8</td>\n",
       "      <td>1</td>\n",
       "    </tr>\n",
       "    <tr>\n",
       "      <th>7</th>\n",
       "      <td>178.00</td>\n",
       "      <td>65</td>\n",
       "      <td>1</td>\n",
       "      <td>24</td>\n",
       "      <td>2</td>\n",
       "      <td>1</td>\n",
       "    </tr>\n",
       "    <tr>\n",
       "      <th>8</th>\n",
       "      <td>179.00</td>\n",
       "      <td>69</td>\n",
       "      <td>1</td>\n",
       "      <td>23</td>\n",
       "      <td>2</td>\n",
       "      <td>0</td>\n",
       "    </tr>\n",
       "    <tr>\n",
       "      <th>9</th>\n",
       "      <td>178.00</td>\n",
       "      <td>60</td>\n",
       "      <td>1</td>\n",
       "      <td>37</td>\n",
       "      <td>0</td>\n",
       "      <td>1</td>\n",
       "    </tr>\n",
       "    <tr>\n",
       "      <th>10</th>\n",
       "      <td>175.00</td>\n",
       "      <td>77</td>\n",
       "      <td>1</td>\n",
       "      <td>26</td>\n",
       "      <td>10</td>\n",
       "      <td>1</td>\n",
       "    </tr>\n",
       "    <tr>\n",
       "      <th>11</th>\n",
       "      <td>177.00</td>\n",
       "      <td>62</td>\n",
       "      <td>0</td>\n",
       "      <td>20</td>\n",
       "      <td>7</td>\n",
       "      <td>1</td>\n",
       "    </tr>\n",
       "    <tr>\n",
       "      <th>12</th>\n",
       "      <td>173.00</td>\n",
       "      <td>61</td>\n",
       "      <td>1</td>\n",
       "      <td>23</td>\n",
       "      <td>2</td>\n",
       "      <td>0</td>\n",
       "    </tr>\n",
       "    <tr>\n",
       "      <th>13</th>\n",
       "      <td>164.00</td>\n",
       "      <td>62</td>\n",
       "      <td>0</td>\n",
       "      <td>28</td>\n",
       "      <td>2</td>\n",
       "      <td>1</td>\n",
       "    </tr>\n",
       "    <tr>\n",
       "      <th>14</th>\n",
       "      <td>170.00</td>\n",
       "      <td>70</td>\n",
       "      <td>1</td>\n",
       "      <td>29</td>\n",
       "      <td>5</td>\n",
       "      <td>1</td>\n",
       "    </tr>\n",
       "    <tr>\n",
       "      <th>15</th>\n",
       "      <td>170.00</td>\n",
       "      <td>74</td>\n",
       "      <td>0</td>\n",
       "      <td>24</td>\n",
       "      <td>3</td>\n",
       "      <td>0</td>\n",
       "    </tr>\n",
       "    <tr>\n",
       "      <th>16</th>\n",
       "      <td>169.00</td>\n",
       "      <td>67</td>\n",
       "      <td>1</td>\n",
       "      <td>23</td>\n",
       "      <td>2</td>\n",
       "      <td>1</td>\n",
       "    </tr>\n",
       "    <tr>\n",
       "      <th>17</th>\n",
       "      <td>165.00</td>\n",
       "      <td>63</td>\n",
       "      <td>1</td>\n",
       "      <td>20</td>\n",
       "      <td>10</td>\n",
       "      <td>0</td>\n",
       "    </tr>\n",
       "    <tr>\n",
       "      <th>18</th>\n",
       "      <td>1.69</td>\n",
       "      <td>50</td>\n",
       "      <td>0</td>\n",
       "      <td>20</td>\n",
       "      <td>3</td>\n",
       "      <td>2</td>\n",
       "    </tr>\n",
       "  </tbody>\n",
       "</table>\n",
       "</div>"
      ],
      "text/plain": [
       "    Height  Weight  Gender  Age  Sporthours/week  Location\n",
       "0   178.00      81       1   49                7         1\n",
       "1   180.00      75       1   22               16         1\n",
       "2   169.00      53       0   20                0         2\n",
       "3   183.00      80       1   25                1         1\n",
       "4   190.00      65       1   25                5         0\n",
       "5   178.00      82       1   21                4         0\n",
       "6   188.00      85       1   25                8         1\n",
       "7   178.00      65       1   24                2         1\n",
       "8   179.00      69       1   23                2         0\n",
       "9   178.00      60       1   37                0         1\n",
       "10  175.00      77       1   26               10         1\n",
       "11  177.00      62       0   20                7         1\n",
       "12  173.00      61       1   23                2         0\n",
       "13  164.00      62       0   28                2         1\n",
       "14  170.00      70       1   29                5         1\n",
       "15  170.00      74       0   24                3         0\n",
       "16  169.00      67       1   23                2         1\n",
       "17  165.00      63       1   20               10         0\n",
       "18    1.69      50       0   20                3         2"
      ]
     },
     "execution_count": 17,
     "metadata": {},
     "output_type": "execute_result"
    }
   ],
   "source": [
    "df= pd.read_csv('Intro to ML Class.csv')\n",
    "df = df.drop(df.columns[0], axis=1)\n",
    "df['Gender'] = df['Gender'].map({'M': 1, 'F': 0})\n",
    "df.rename(columns={'Location: (0 Village, 1: Town, 2: City, 3: Megacity)': 'Location'}, inplace=True)\n",
    "df"
   ]
  },
  {
   "cell_type": "markdown",
   "id": "d35abc7b-b8f0-4a19-8843-4e4f5ba839d4",
   "metadata": {},
   "source": [
    "### Discussion part 1\n",
    "\n",
    "I am interested in predicting the Location of the student. By counting the number of different categories we see that our data is imbalanced (see class distribution plot).\n",
    "We can use oversampling to make our data more balanced. We need to take into account that oversampling can make overfitting more likely. (Note : i did not take into account the fact that \"megacity\" is a possible class because it doesn't appear in our dataset)\n",
    "\n",
    "We want to predict the class location of the student (0: village, 1: town, 2: city). With respect to the other parameters, height, weight, gender, Age and sporthours/week."
   ]
  },
  {
   "cell_type": "code",
   "execution_count": 60,
   "id": "19a37b09-32f0-4c1d-96a1-ba11866579c4",
   "metadata": {
    "tags": []
   },
   "outputs": [
    {
     "data": {
      "image/png": "[encoded data removed]",
      "text/plain": [
       "<Figure size 600x400 with 1 Axes>"
      ]
     },
     "metadata": {},
     "output_type": "display_data"
    }
   ],
   "source": [
    "#  Plot Class Distribution \n",
    "class_counts = df['Location'].value_counts()\n",
    "\n",
    "plt.figure(figsize=(6, 4))\n",
    "class_counts.plot(kind='bar', color=['blue', 'orange', 'red'])\n",
    "plt.title('Class Distribution ')\n",
    "plt.xlabel('Location')\n",
    "plt.ylabel('Number of Samples')\n",
    "plt.xticks(rotation=0)\n",
    "plt.show()"
   ]
  },
  {
   "cell_type": "code",
   "execution_count": 61,
   "id": "c77171b8-9522-4f42-85c9-96be3de9476f",
   "metadata": {
    "tags": []
   },
   "outputs": [
    {
     "data": {
      "image/png": "[encoded data removed]",
      "text/plain": [
       "<Figure size 800x500 with 1 Axes>"
      ]
     },
     "metadata": {},
     "output_type": "display_data"
    }
   ],
   "source": [
    "# Create the RandomOverSampler object\n",
    "X = df.drop(columns=['Location'])\n",
    "y = df['Location']\n",
    "ros = RandomOverSampler(random_state=42)\n",
    "X_resampled, y_resampled = ros.fit_resample(X, y)\n",
    "\n",
    "# Create a new DataFrame with the resampled data\n",
    "df_resampled = pd.DataFrame(X_resampled, columns=X.columns)\n",
    "df_resampled['Location'] = y_resampled\n",
    "#  Plot Class Distribution After Oversampling\n",
    "new_class_counts = df_resampled['Location'].value_counts()\n",
    "\n",
    "plt.figure(figsize=(8, 5))\n",
    "new_class_counts.plot(kind='bar', color=['blue', 'orange', 'red'])\n",
    "plt.title('Class Distribution After Oversampling')\n",
    "plt.xlabel('Location')\n",
    "plt.ylabel('Number of Samples')\n",
    "plt.xticks(rotation=0)\n",
    "plt.show()"
   ]
  },
  {
   "cell_type": "code",
   "execution_count": 90,
   "id": "0db95153-a480-43a8-9e34-49aa9c081b0b",
   "metadata": {
    "tags": []
   },
   "outputs": [
    {
     "name": "stdout",
     "output_type": "stream",
     "text": [
      "best cross_validation_mean at k = 5, with value 0.7285714285714285\n"
     ]
    },
    {
     "data": {
      "image/png": "[encoded data removed]",
      "text/plain": [
       "<Figure size 640x480 with 1 Axes>"
      ]
     },
     "metadata": {},
     "output_type": "display_data"
    }
   ],
   "source": [
    "X_resampled = df_resampled.drop(columns='Location')\n",
    "y_resampled = df_resampled['Location']\n",
    "\n",
    "len_X = X_resampled.shape[0]\n",
    "\n",
    "cross_validation_scores = np.zeros(24)\n",
    "\n",
    "for k in range(2, 26): #I did not take k = 1 into consideration to avoid overfitting\n",
    "    knn = KNeighborsClassifier(n_neighbors=k)\n",
    "    cross_validation_score = cross_val_score(knn, X_resampled, y_resampled, cv=5)\n",
    "    cross_validation_scores[k - 2] = cross_validation_score.mean()\n",
    "\n",
    "\n",
    "plt.plot(range(2, 26), cross_validation_scores)\n",
    "best_k = np.argmax(cross_validation_scores) + 2\n",
    "print(f\"best cross_validation_mean at k = {best_k}, with value {max(cross_validation_scores)}\")"
   ]
  },
  {
   "cell_type": "code",
   "execution_count": 91,
   "id": "f1090518-02cf-4883-b20b-1c3aa108dc67",
   "metadata": {
    "tags": []
   },
   "outputs": [
    {
     "name": "stdout",
     "output_type": "stream",
     "text": [
      "Best Learning Rate (eta0): 0.001\n",
      "Best Validation Accuracy: 0.2500\n"
     ]
    }
   ],
   "source": [
    "# Initialize variables to store the best learning rate and validation accuracy\n",
    "X_train, X_t, y_train, y_t= train_test_split(X_resampled, y_resampled, test_size=0.2, random_state=42)\n",
    "X_test, X_val, y_test, y_val=  train_test_split(X_t, y_t, test_size=0.5, random_state=42)\n",
    "\n",
    "# Define a list of learning rates (eta0 values) to try\n",
    "learning_rate_values = [0.001, 0.01, 0.1, 1.0]\n",
    "\n",
    "# Initialize variables to store the best learning rate and validation accuracy\n",
    "best_eta = None\n",
    "best_val_accuracy = 0  # Start with 0 accuracy as a baseline\n",
    "\n",
    "for learning_rate in learning_rate_values:\n",
    "    #  Initialize the perceptron with the current learning rate\n",
    "    perceptron = Perceptron(max_iter=1000, eta0=learning_rate, random_state=42, tol=1e-3)\n",
    "            \n",
    "    #  Fit the model to the training data\n",
    "    # TO DO\n",
    "    perceptron.fit(X_train, y_train)\n",
    "    #  Predict on the validation set\n",
    "    # TO DO\n",
    "    y_val_pred = perceptron.predict(X_val)  # Predict on the validation set\n",
    "    #  Compute the validation accuracy using accuracy_score from scikitlearn\n",
    "    # TO DO\n",
    "    val_accuracy = accuracy_score(y_val, y_val_pred)\n",
    "    #  If this set of hyperparameters gives better accuracy, update the best parameters\n",
    "    if val_accuracy > best_val_accuracy:\n",
    "        best_val_accuracy = val_accuracy\n",
    "        best_learning_rate = learning_rate\n",
    "# After tuning, print the best hyperparameters and the corresponding validation accuracy\n",
    "print(f\"Best Learning Rate (eta0): {best_learning_rate}\")\n",
    "print(f\"Best Validation Accuracy: {best_val_accuracy:.4f}\")"
   ]
  },
  {
   "cell_type": "markdown",
   "id": "2d7f6cd4-be60-4798-9867-1c1c763ef17d",
   "metadata": {},
   "source": [
    "## Discussion part 2\n",
    "\n",
    "After experimentation, it appears that the knn with k = 5 is best suited to predict Location in this case.\n",
    "To improve our tests we can select the features that impact more on the location, maybe in our case sporthours/week is not a good feature.\n",
    "\n",
    "I think cross-validation is a strong start. But we can also use bootstrapping. Then, we can maybe look at some literature to compare our results. Use a benchmark to test our models. And finally test the differents models in the real world to see which one performs better."
   ]
  },
  {
   "cell_type": "code",
   "execution_count": null,
   "id": "a3a5a9de-a593-486b-bd78-29c6c4f61411",
   "metadata": {},
   "outputs": [],
   "source": []
  },
  {
   "cell_type": "code",
   "execution_count": null,
   "id": "a0f6d00c-fef3-4f39-b156-7363c645281e",
   "metadata": {},
   "outputs": [],
   "source": []
  }
 ],
 "metadata": {
  "kernelspec": {
   "display_name": "Python 3 (ipykernel)",
   "language": "python",
   "name": "python3"
  },
  "language_info": {
   "codemirror_mode": {
    "name": "ipython",
    "version": 3
   },
   "file_extension": ".py",
   "mimetype": "text/x-python",
   "name": "python",
   "nbconvert_exporter": "python",
   "pygments_lexer": "ipython3",
   "version": "3.10.7"
  }
 },
 "nbformat": 4,
 "nbformat_minor": 5
}
