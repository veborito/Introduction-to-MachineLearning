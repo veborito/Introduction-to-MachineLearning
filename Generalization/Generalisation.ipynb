{
 "cells": [
  {
   "cell_type": "markdown",
   "id": "2331005c",
   "metadata": {},
   "source": [
    "# GEERALIZATION"
   ]
  },
  {
   "cell_type": "markdown",
   "id": "aa9d13c7",
   "metadata": {},
   "source": [
    "It can be the ability of a model to perform well on unseen data, which is essential to avoid overfitting  and underfitting.\n",
    "\n",
    "- Overfitting occurs when a model learns the training data too well, capturing noise and fluctuations instead of the underlying distribution. As a result, while the model performs exceptionally on the training data, it performs poorly on new, unseen data.\n",
    "\n",
    "- Underfitting occurs when a model is too simplistic to capture the underlying trend of the data. It fails to learn adequately from the training data, resulting in poor performance on both the training and validation datasets.\n",
    "\n",
    "So the aim of splitting a dataset into training, validation, and test sets is to effectively train machine learning models while ensuring they generalize well to new, unseen data.\n",
    "\n",
    "- Training Set: Used to train the model.\n",
    "- Validation Set: Used to tune the model (hyperparameters).\n",
    "- Test Set: Used to evaluate the model’s performance after training."
   ]
  },
  {
   "cell_type": "code",
   "execution_count": 1,
   "id": "36c076c5",
   "metadata": {
    "tags": []
   },
   "outputs": [],
   "source": [
    "import pandas as pd\n",
    "import numpy as np\n",
    "import matplotlib.pyplot as plt\n",
    "from imblearn.over_sampling import RandomOverSampler\n",
    "from sklearn.model_selection import train_test_split\n",
    "from sklearn.preprocessing import StandardScaler,MinMaxScaler\n",
    "from sklearn.neighbors import KNeighborsClassifier\n",
    "from sklearn.linear_model import Perceptron\n",
    "from sklearn.metrics import classification_report, confusion_matrix,accuracy_score,ConfusionMatrixDisplay"
   ]
  },
  {
   "cell_type": "code",
   "execution_count": 2,
   "id": "da18007a",
   "metadata": {
    "tags": []
   },
   "outputs": [
    {
     "data": {
      "text/html": [
       "<div>\n",
       "<style scoped>\n",
       "    .dataframe tbody tr th:only-of-type {\n",
       "        vertical-align: middle;\n",
       "    }\n",
       "\n",
       "    .dataframe tbody tr th {\n",
       "        vertical-align: top;\n",
       "    }\n",
       "\n",
       "    .dataframe thead th {\n",
       "        text-align: right;\n",
       "    }\n",
       "</style>\n",
       "<table border=\"1\" class=\"dataframe\">\n",
       "  <thead>\n",
       "    <tr style=\"text-align: right;\">\n",
       "      <th></th>\n",
       "      <th>Height</th>\n",
       "      <th>Weight</th>\n",
       "      <th>Gender</th>\n",
       "      <th>Age</th>\n",
       "      <th>Sporthours/week</th>\n",
       "      <th>Location: (0 Village, 1: Town, 2: City, 3: Megacity)</th>\n",
       "    </tr>\n",
       "  </thead>\n",
       "  <tbody>\n",
       "    <tr>\n",
       "      <th>0</th>\n",
       "      <td>178.00</td>\n",
       "      <td>81</td>\n",
       "      <td>M</td>\n",
       "      <td>49</td>\n",
       "      <td>7</td>\n",
       "      <td>1</td>\n",
       "    </tr>\n",
       "    <tr>\n",
       "      <th>1</th>\n",
       "      <td>180.00</td>\n",
       "      <td>75</td>\n",
       "      <td>M</td>\n",
       "      <td>22</td>\n",
       "      <td>16</td>\n",
       "      <td>1</td>\n",
       "    </tr>\n",
       "    <tr>\n",
       "      <th>2</th>\n",
       "      <td>169.00</td>\n",
       "      <td>53</td>\n",
       "      <td>F</td>\n",
       "      <td>20</td>\n",
       "      <td>0</td>\n",
       "      <td>2</td>\n",
       "    </tr>\n",
       "    <tr>\n",
       "      <th>3</th>\n",
       "      <td>183.00</td>\n",
       "      <td>80</td>\n",
       "      <td>M</td>\n",
       "      <td>25</td>\n",
       "      <td>1</td>\n",
       "      <td>1</td>\n",
       "    </tr>\n",
       "    <tr>\n",
       "      <th>4</th>\n",
       "      <td>190.00</td>\n",
       "      <td>65</td>\n",
       "      <td>M</td>\n",
       "      <td>25</td>\n",
       "      <td>5</td>\n",
       "      <td>0</td>\n",
       "    </tr>\n",
       "    <tr>\n",
       "      <th>5</th>\n",
       "      <td>178.00</td>\n",
       "      <td>82</td>\n",
       "      <td>M</td>\n",
       "      <td>21</td>\n",
       "      <td>4</td>\n",
       "      <td>0</td>\n",
       "    </tr>\n",
       "    <tr>\n",
       "      <th>6</th>\n",
       "      <td>188.00</td>\n",
       "      <td>85</td>\n",
       "      <td>M</td>\n",
       "      <td>25</td>\n",
       "      <td>8</td>\n",
       "      <td>1</td>\n",
       "    </tr>\n",
       "    <tr>\n",
       "      <th>7</th>\n",
       "      <td>178.00</td>\n",
       "      <td>65</td>\n",
       "      <td>M</td>\n",
       "      <td>24</td>\n",
       "      <td>2</td>\n",
       "      <td>1</td>\n",
       "    </tr>\n",
       "    <tr>\n",
       "      <th>8</th>\n",
       "      <td>179.00</td>\n",
       "      <td>69</td>\n",
       "      <td>M</td>\n",
       "      <td>23</td>\n",
       "      <td>2</td>\n",
       "      <td>0</td>\n",
       "    </tr>\n",
       "    <tr>\n",
       "      <th>9</th>\n",
       "      <td>178.00</td>\n",
       "      <td>60</td>\n",
       "      <td>M</td>\n",
       "      <td>37</td>\n",
       "      <td>0</td>\n",
       "      <td>1</td>\n",
       "    </tr>\n",
       "    <tr>\n",
       "      <th>10</th>\n",
       "      <td>175.00</td>\n",
       "      <td>77</td>\n",
       "      <td>M</td>\n",
       "      <td>26</td>\n",
       "      <td>10</td>\n",
       "      <td>1</td>\n",
       "    </tr>\n",
       "    <tr>\n",
       "      <th>11</th>\n",
       "      <td>177.00</td>\n",
       "      <td>62</td>\n",
       "      <td>F</td>\n",
       "      <td>20</td>\n",
       "      <td>7</td>\n",
       "      <td>1</td>\n",
       "    </tr>\n",
       "    <tr>\n",
       "      <th>12</th>\n",
       "      <td>173.00</td>\n",
       "      <td>61</td>\n",
       "      <td>M</td>\n",
       "      <td>23</td>\n",
       "      <td>2</td>\n",
       "      <td>0</td>\n",
       "    </tr>\n",
       "    <tr>\n",
       "      <th>13</th>\n",
       "      <td>164.00</td>\n",
       "      <td>62</td>\n",
       "      <td>F</td>\n",
       "      <td>28</td>\n",
       "      <td>2</td>\n",
       "      <td>1</td>\n",
       "    </tr>\n",
       "    <tr>\n",
       "      <th>14</th>\n",
       "      <td>170.00</td>\n",
       "      <td>70</td>\n",
       "      <td>M</td>\n",
       "      <td>29</td>\n",
       "      <td>5</td>\n",
       "      <td>1</td>\n",
       "    </tr>\n",
       "    <tr>\n",
       "      <th>15</th>\n",
       "      <td>170.00</td>\n",
       "      <td>74</td>\n",
       "      <td>F</td>\n",
       "      <td>24</td>\n",
       "      <td>3</td>\n",
       "      <td>0</td>\n",
       "    </tr>\n",
       "    <tr>\n",
       "      <th>16</th>\n",
       "      <td>169.00</td>\n",
       "      <td>67</td>\n",
       "      <td>M</td>\n",
       "      <td>23</td>\n",
       "      <td>2</td>\n",
       "      <td>1</td>\n",
       "    </tr>\n",
       "    <tr>\n",
       "      <th>17</th>\n",
       "      <td>165.00</td>\n",
       "      <td>63</td>\n",
       "      <td>M</td>\n",
       "      <td>20</td>\n",
       "      <td>10</td>\n",
       "      <td>0</td>\n",
       "    </tr>\n",
       "    <tr>\n",
       "      <th>18</th>\n",
       "      <td>1.69</td>\n",
       "      <td>50</td>\n",
       "      <td>F</td>\n",
       "      <td>20</td>\n",
       "      <td>3</td>\n",
       "      <td>2</td>\n",
       "    </tr>\n",
       "  </tbody>\n",
       "</table>\n",
       "</div>"
      ],
      "text/plain": [
       "    Height  Weight Gender  Age  Sporthours/week  \\\n",
       "0   178.00      81      M   49                7   \n",
       "1   180.00      75      M   22               16   \n",
       "2   169.00      53      F   20                0   \n",
       "3   183.00      80      M   25                1   \n",
       "4   190.00      65      M   25                5   \n",
       "5   178.00      82      M   21                4   \n",
       "6   188.00      85      M   25                8   \n",
       "7   178.00      65      M   24                2   \n",
       "8   179.00      69      M   23                2   \n",
       "9   178.00      60      M   37                0   \n",
       "10  175.00      77      M   26               10   \n",
       "11  177.00      62      F   20                7   \n",
       "12  173.00      61      M   23                2   \n",
       "13  164.00      62      F   28                2   \n",
       "14  170.00      70      M   29                5   \n",
       "15  170.00      74      F   24                3   \n",
       "16  169.00      67      M   23                2   \n",
       "17  165.00      63      M   20               10   \n",
       "18    1.69      50      F   20                3   \n",
       "\n",
       "    Location: (0 Village, 1: Town, 2: City, 3: Megacity)  \n",
       "0                                                   1     \n",
       "1                                                   1     \n",
       "2                                                   2     \n",
       "3                                                   1     \n",
       "4                                                   0     \n",
       "5                                                   0     \n",
       "6                                                   1     \n",
       "7                                                   1     \n",
       "8                                                   0     \n",
       "9                                                   1     \n",
       "10                                                  1     \n",
       "11                                                  1     \n",
       "12                                                  0     \n",
       "13                                                  1     \n",
       "14                                                  1     \n",
       "15                                                  0     \n",
       "16                                                  1     \n",
       "17                                                  0     \n",
       "18                                                  2     "
      ]
     },
     "execution_count": 2,
     "metadata": {},
     "output_type": "execute_result"
    }
   ],
   "source": [
    "df= pd.read_csv('Intro to ML Class.csv')\n",
    "df = df.drop(df.columns[0], axis=1)\n",
    "df"
   ]
  },
  {
   "cell_type": "markdown",
   "id": "15b5907a",
   "metadata": {},
   "source": [
    "## Data Preprocessing"
   ]
  },
  {
   "cell_type": "markdown",
   "id": "eda6de23",
   "metadata": {},
   "source": [
    "### Class Imbalance\n",
    "\n",
    "Imbalanced data refers to a dataset where the distribution of classes is not uniform. This means one class (often called the majority class) significantly outnumbers the other class (the minority class).\n",
    "\n",
    "##### Challenges with Imbalanced Data\n",
    "\n",
    "- Biased Model: The model may become biased toward predicting the majority class.\n",
    "\n",
    "- Misleading Accuracy: High accuracy may be misleading because it reflects the majority class's performance, not the overall classification.\n",
    "\n",
    "- Poor Generalization: The model may not generalize well to rare events (i.e., the minority class).\n",
    "\n",
    "\n",
    "##### How to Handle Imbalanced Data\n",
    "Here are several methods to address imbalanced data:\n",
    "\n",
    "1. Resampling Techniques\n",
    "\n",
    "- Oversampling the Minority Class:  This can lead to overfitting.\n",
    "\n",
    "- Synthetic Minority Over-sampling Technique (SMOTE): Generates synthetic samples for the minority class by interpolating between existing samples.\n",
    "\n",
    "- Undersampling the Majority Class: This can risk losing valuable information.\n",
    "\n",
    "- Cluster-based Undersampling: Groups majority class samples into clusters and removes redundant samples.\n",
    "\n",
    "2. Using Different Evaluation Metrics\n",
    "\n",
    "- Confusion Matrix\n",
    "\n",
    "-  F1-score: These metrics focus on the minority class's performance, which accuracy does not capture effectively.\n",
    "\n",
    "3. Class Weighting\n",
    "\n",
    "4. Algorithmic Approaches\n"
   ]
  },
  {
   "cell_type": "code",
   "execution_count": 3,
   "id": "a6b57d27",
   "metadata": {
    "tags": []
   },
   "outputs": [
    {
     "data": {
      "image/png": "[encoded data removed]",
      "text/plain": [
       "<Figure size 600x400 with 1 Axes>"
      ]
     },
     "metadata": {},
     "output_type": "display_data"
    }
   ],
   "source": [
    "# Encode gender as a binary variable\n",
    "df['Gender'] = df['Gender'].map({'M': 1, 'F': 0})\n",
    "\n",
    "#  Plot Class Distribution \n",
    "class_counts = df['Gender'].value_counts()\n",
    "\n",
    "plt.figure(figsize=(6, 4))\n",
    "class_counts.plot(kind='bar', color=['blue', 'orange'])\n",
    "plt.title('Class Distribution ')\n",
    "plt.xlabel('Gender')\n",
    "plt.ylabel('Number of Samples')\n",
    "plt.xticks(rotation=0)\n",
    "plt.show()"
   ]
  },
  {
   "cell_type": "code",
   "execution_count": 4,
   "id": "b4f55f62",
   "metadata": {
    "tags": []
   },
   "outputs": [
    {
     "data": {
      "image/png": "[encoded data removed]",
      "text/plain": [
       "<Figure size 800x500 with 1 Axes>"
      ]
     },
     "metadata": {},
     "output_type": "display_data"
    }
   ],
   "source": [
    "#  Apply Oversampling to the Minority Class\n",
    "# Separate features and target\n",
    "X = df.drop(columns=['Gender'])  # Dropping the target column\n",
    "y = df['Gender']\n",
    "\n",
    "# Create the RandomOverSampler object\n",
    "ros = RandomOverSampler(random_state=42)\n",
    "\n",
    "# Apply oversampling\n",
    "X_resampled, y_resampled = ros.fit_resample(X, y)\n",
    "\n",
    "# Create a new DataFrame with the resampled data\n",
    "df_resampled = pd.DataFrame(X_resampled, columns=X.columns)\n",
    "df_resampled['Gender'] = y_resampled\n",
    "\n",
    "#  Plot Class Distribution After Oversampling\n",
    "new_class_counts = df_resampled['Gender'].value_counts()\n",
    "\n",
    "plt.figure(figsize=(8, 5))\n",
    "new_class_counts.plot(kind='bar', color=['blue', 'orange'])\n",
    "plt.title('Class Distribution After Oversampling')\n",
    "plt.xlabel('Gender')\n",
    "plt.ylabel('Number of Samples')\n",
    "plt.xticks(rotation=0)\n",
    "plt.show()"
   ]
  },
  {
   "cell_type": "code",
   "execution_count": null,
   "id": "9302f886",
   "metadata": {},
   "outputs": [],
   "source": []
  },
  {
   "cell_type": "markdown",
   "id": "8a568109",
   "metadata": {},
   "source": [
    "### Feature Scaling\n",
    "\n",
    "It is a preprocessing technique used to standardize the range of independent features (input variables) in a dataset. \n",
    "\n",
    "There are two primary types of feature scaling:\n",
    "\n",
    "1. **Min-Max Scaling (Normalization)**\n",
    "\n",
    "Min-max scaling, also known as **normalization**, rescales features to a fixed range, usually \\([0, 1]\\) or \\([-1, 1]\\). This is useful when we want to bound our features within a specific range.\n",
    "\n",
    "**Equation:**\n",
    "\n",
    "$$\n",
    "x' = \\frac{x - x_{\\min}}{x_{\\max} - x_{\\min}}\n",
    "$$\n",
    "\n",
    "Where:\n",
    "- $x$ is the original value of the feature.\n",
    "- $x_{\\min}$ is the minimum value of the feature.\n",
    "- $x_{\\max}$ is the maximum value of the feature.\n",
    "- $x'$ is the normalized value.\n",
    "\n",
    "**Example:**\n",
    "If a feature has a range of values from 10 to 100, and we want to normalize the value 50:\n",
    "\n",
    "$$\n",
    "x' = \\frac{50 - 10}{100 - 10} = \\frac{40}{90} \\approx 0.44\n",
    "$$\n",
    "\n",
    "\n",
    "#### 2. **Z-score Scaling (Standardization)**\n",
    "\n",
    "Z-score scaling, or **standardization**, transforms the features so that they have a mean of 0 and a standard deviation of 1. This ensures that features are centered around the mean and that the spread of the features is the same (unit variance). It Suitable for models that assume normally distributed data, like logistic regression, linear regression, and SVMs.\n",
    "\n",
    "**Equation:**\n",
    "\n",
    "$$\n",
    "x' = \\frac{x - \\mu}{\\sigma}\n",
    "$$\n",
    "\n",
    "Where:\n",
    "- $x$ is the original feature value.\n",
    "- $\\mu$ is the mean of the feature.\n",
    "- $\\sigma$ is the standard deviation of the feature.\n",
    "- $x'$ is the standardized value.\n",
    "\n",
    "**Example:**\n",
    "If a feature has a mean of 50 and a standard deviation of 10, and the original value of a feature is 70:\n",
    "\n",
    "$$\n",
    "x' = \\frac{70 - 50}{10} = \\frac{20}{10} = 2\n",
    "$$"
   ]
  },
  {
   "cell_type": "code",
   "execution_count": 5,
   "id": "66dd0f03",
   "metadata": {
    "tags": []
   },
   "outputs": [
    {
     "name": "stdout",
     "output_type": "stream",
     "text": [
      "Best k from validation set: 2\n"
     ]
    }
   ],
   "source": [
    "# Split the data into training, validation, and test sets using X_resampled, y_resampled\n",
    "X_train, X_t, y_train, y_t= train_test_split(X_resampled, y_resampled, test_size=0.3)\n",
    "X_test, X_val, y_test, y_val=  train_test_split(X_t, y_t, test_size=0.5)\n",
    "\n",
    "#  Feature Scaling using MinMaxScaler on X values\n",
    "scaler = MinMaxScaler()\n",
    "# TO DO\n",
    "X_train_scaler= scaler.fit_transform(X_train)\n",
    "X_test_scaler= scaler.transform(X_test)\n",
    "X_val_scaler= scaler.transform(X_val)\n",
    "\n",
    "# find the best value of k using validation set\n",
    "k_values = [2, 3,4, 5,6, 7, 9, 11]\n",
    "validation_accuracies = []\n",
    "for k in k_values:\n",
    "    knn = KNeighborsClassifier(n_neighbors=k)\n",
    "    knn.fit(X_train, y_train)  # Fit on the training set\n",
    "    y_val_pred = knn.predict(X_val)  # Predict on the validation set\n",
    "    validation_accuracy = accuracy_score(y_val, y_val_pred)\n",
    "    validation_accuracies.append(validation_accuracy)\n",
    "\n",
    "best_k = k_values[validation_accuracies.index(max(validation_accuracies))]\n",
    "print(f\"Best k from validation set: {best_k}\")"
   ]
  },
  {
   "cell_type": "markdown",
   "id": "46060bfa",
   "metadata": {},
   "source": [
    "### You could also use cross validation from scikit learn : cross_val_score"
   ]
  },
  {
   "cell_type": "code",
   "execution_count": 33,
   "id": "200fba0b",
   "metadata": {
    "tags": []
   },
   "outputs": [
    {
     "name": "stdout",
     "output_type": "stream",
     "text": [
      "k=2, Cross-validation accuracy: 0.5166666666666667\n",
      "k=3, Cross-validation accuracy: 0.7833333333333333\n",
      "k=4, Cross-validation accuracy: 0.6166666666666667\n",
      "k=5, Cross-validation accuracy: 0.7333333333333333\n",
      "k=6, Cross-validation accuracy: 0.6833333333333333\n",
      "k=7, Cross-validation accuracy: 0.7333333333333333\n",
      "k=9, Cross-validation accuracy: 0.7333333333333333\n",
      "k=11, Cross-validation accuracy: 0.7333333333333333\n"
     ]
    }
   ],
   "source": [
    "from sklearn.model_selection import cross_val_score\n",
    "\n",
    "# Perform cross-validation for different values of k\n",
    "for k in k_values:\n",
    "    knn = KNeighborsClassifier(n_neighbors=k)\n",
    "    cv_scores = cross_val_score(knn, X, y, cv=5)  # 5-fold cross-validation\n",
    "    print(f'k={k}, Cross-validation accuracy: {cv_scores.mean()}')\n"
   ]
  },
  {
   "cell_type": "code",
   "execution_count": null,
   "id": "e05eb315",
   "metadata": {},
   "outputs": [],
   "source": []
  },
  {
   "cell_type": "code",
   "execution_count": 7,
   "id": "26f72ba8",
   "metadata": {
    "tags": []
   },
   "outputs": [],
   "source": [
    "####k-NN Classification\n",
    "k = 2  # enter the value you abtain above\n",
    "knn = KNeighborsClassifier(n_neighbors=k)\n",
    "# TO DO, Fit the model here on train set\n",
    "knn.fit(X_train_scaler, y_train)\n",
    "\n",
    "#  Make Predictions on train and test sets\n",
    "# TO DO\n",
    "y_pred_train= knn.predict(X_train_scaler)\n",
    "y_pred_test= knn.predict(X_test_scaler)"
   ]
  },
  {
   "cell_type": "markdown",
   "id": "f1cbbd54",
   "metadata": {},
   "source": [
    "## Metric for Evaluation\n",
    "\n",
    "We can use some common metric for evaluation like\n",
    "\n",
    "- **Accuracy**: The proportion of correctly classified instances.\n",
    " \n",
    "   $$\n",
    "   \\text{Accuracy} = \\frac{\\text{True Positives} + \\text{True Negatives}}{\\text{Total Samples}}\n",
    "  $$\n",
    "  \n",
    "- **Confusion Matrix**: A summary of prediction results showing true positive, true negative, false positive, and false negative counts.\n",
    " \n",
    " $$\n",
    "   \\begin{array}{|c|c|c|}\n",
    "   \\hline\n",
    "   & \\text{Predicted Positive} & \\text{Predicted Negative} \\\\\n",
    "   \\hline\n",
    "   \\text{Actual Positive} & TP & FN \\\\\n",
    "   \\hline\n",
    "   \\text{Actual Negative} & FP & TN \\\\\n",
    "   \\hline\n",
    "   \\end{array}\n",
    "  $$\n",
    "\n",
    "\n",
    "We also have anothers metrics like:\n",
    "\n",
    " **Precision**:\n",
    "   $$\n",
    "   \\text{Precision} = \\frac{TP}{TP + FP}\n",
    "   $$\n",
    "\n",
    " **Recall**:\n",
    "   $$\n",
    "   \\text{Recall} = \\frac{TP}{TP + FN}\n",
    "   $$\n",
    "\n",
    " **F1 Score**:\n",
    "   $$\n",
    "   \\text{F1 Score} = 2 \\times \\frac{\\text{Precision} \\times \\text{Recall}}{\\text{Precision} + \\text{Recall}}\n",
    "  $$\n"
   ]
  },
  {
   "cell_type": "code",
   "execution_count": 8,
   "id": "b33d4d44",
   "metadata": {
    "tags": []
   },
   "outputs": [
    {
     "name": "stdout",
     "output_type": "stream",
     "text": [
      "Test Accuracy: 1.00\n",
      "Train Accuracy: 0.68\n"
     ]
    },
    {
     "name": "stderr",
     "output_type": "stream",
     "text": [
      "/Users/borito/.pyenv/versions/3.10.7/lib/python3.10/site-packages/sklearn/metrics/_classification.py:409: UserWarning: A single label was found in 'y_true' and 'y_pred'. For the confusion matrix to have the correct shape, use the 'labels' parameter to pass all known labels.\n",
      "  warnings.warn(\n"
     ]
    },
    {
     "data": {
      "image/png": "[encoded data removed]",
      "text/plain": [
       "<Figure size 640x480 with 2 Axes>"
      ]
     },
     "metadata": {},
     "output_type": "display_data"
    },
    {
     "data": {
      "image/png": "[encoded data removed]",
      "text/plain": [
       "<Figure size 640x480 with 2 Axes>"
      ]
     },
     "metadata": {},
     "output_type": "display_data"
    }
   ],
   "source": [
    "## Compute accuracy using accuracy_score from scikitlearn \n",
    "#TO DO\n",
    "train_accuracy= accuracy_score(y_pred_train,y_train)\n",
    "test_accuracy= accuracy_score(y_pred_test, y_test)\n",
    "\n",
    "\n",
    "# Print formatted accuracy\n",
    "print(f'Test Accuracy: {test_accuracy:.2f}')\n",
    "print(f'Train Accuracy: {train_accuracy:.2f}')\n",
    "\n",
    "# Confusion Matrix\n",
    "cm = confusion_matrix(y_test, y_pred_test)\n",
    "cmt = confusion_matrix(y_train, y_pred_train)\n",
    "ConfusionMatrixDisplay(cmt).plot()\n",
    "ConfusionMatrixDisplay(cm).plot()\n",
    "plt.show()"
   ]
  },
  {
   "cell_type": "code",
   "execution_count": null,
   "id": "2353b124",
   "metadata": {},
   "outputs": [],
   "source": [
    "## TO DO (HOMEWORK)\n",
    "\n",
    "#Plot the accuracy and log loss as in the previous notebook ( the KNN one of last week)"
   ]
  },
  {
   "cell_type": "code",
   "execution_count": null,
   "id": "0bcddf23",
   "metadata": {},
   "outputs": [],
   "source": []
  },
  {
   "cell_type": "markdown",
   "id": "923a972b",
   "metadata": {},
   "source": [
    "## Single layer perceptron from scikitlearn"
   ]
  },
  {
   "cell_type": "markdown",
   "id": "d47e96d6",
   "metadata": {},
   "source": [
    "### Cross validation"
   ]
  },
  {
   "cell_type": "code",
   "execution_count": 30,
   "id": "960cbf33",
   "metadata": {
    "tags": []
   },
   "outputs": [
    {
     "name": "stdout",
     "output_type": "stream",
     "text": [
      "0.8\n",
      "0.8\n",
      "0.8\n",
      "0.8\n",
      "Best Learning Rate (eta0): 0.001\n",
      "Best Validation Accuracy: 0.8000\n"
     ]
    }
   ],
   "source": [
    "# Define a list of learning rates (eta0 values) to try\n",
    "learning_rate_values = [0.001, 0.01, 0.1, 1.0]\n",
    "\n",
    "# Initialize variables to store the best learning rate and validation accuracy\n",
    "best_eta = None\n",
    "best_val_accuracy = 0  # Start with 0 accuracy as a baseline\n",
    "\n",
    "for learning_rate in learning_rate_values:\n",
    "    #  Initialize the perceptron with the current learning rate\n",
    "    perceptron = Perceptron(max_iter=1000, eta0=learning_rate, random_state=42, tol=1e-3)\n",
    "            \n",
    "    #  Fit the model to the training data\n",
    "    # TO DO\n",
    "    perceptron.fit(X_train, y_train)\n",
    "    #  Predict on the validation set\n",
    "    # TO DO\n",
    "    y_val_pred = perceptron.predict(X_val)  # Predict on the validation set\n",
    "    #  Compute the validation accuracy using accuracy_score from scikitlearn\n",
    "    # TO DO\n",
    "    val_accuracy = accuracy_score(y_val, y_val_pred)\n",
    "    #  If this set of hyperparameters gives better accuracy, update the best parameters\n",
    "    if val_accuracy > best_val_accuracy:\n",
    "        best_val_accuracy = val_accuracy\n",
    "        best_learning_rate = learning_rate\n",
    "    print (val_accuracy)\n",
    "# After tuning, print the best hyperparameters and the corresponding validation accuracy\n",
    "print(f\"Best Learning Rate (eta0): {best_learning_rate}\")\n",
    "print(f\"Best Validation Accuracy: {best_val_accuracy:.4f}\")"
   ]
  },
  {
   "cell_type": "markdown",
   "id": "c651f932",
   "metadata": {},
   "source": [
    "### Implementation"
   ]
  },
  {
   "cell_type": "code",
   "execution_count": 31,
   "id": "bb34a97d",
   "metadata": {
    "tags": []
   },
   "outputs": [
    {
     "name": "stdout",
     "output_type": "stream",
     "text": [
      "Training Accuracy: 0.5263\n",
      "Test Accuracy: 1.0000\n"
     ]
    }
   ],
   "source": [
    "#  Initialize the perceptron\n",
    "perceptron = Perceptron(max_iter=1000, tol=1e-3, random_state=42)\n",
    "\n",
    "#  Fit the model to the training data\n",
    "# TO DO\n",
    "perceptron.fit(X_train, y_train)\n",
    "#  Make predictions on both the training set and the test set\n",
    "# TO DO\n",
    "y_val_pred = perceptron.predict(X_val)\n",
    "y_test_pred = perceptron.predict(X_test)\n",
    "y_train_pred = perceptron.predict(X_train)\n",
    "#  Evaluate the model\n",
    "val_accuracy = accuracy_score(y_val, y_val_pred)\n",
    "test_accuracy = accuracy_score(y_test, y_test_pred)\n",
    "# Accuracy on training and test data\n",
    "# TO DO\n",
    "train_accuracy = accuracy_score(y_train, y_train_pred)\n",
    "print(f\"Training Accuracy: {train_accuracy:.4f}\")\n",
    "print(f\"Test Accuracy: {test_accuracy:.4f}\")\n"
   ]
  },
  {
   "cell_type": "code",
   "execution_count": 19,
   "id": "4d4ad573",
   "metadata": {},
   "outputs": [
    {
     "data": {
      "image/png": "[encoded data removed]",
      "text/plain": [
       "<Figure size 640x480 with 2 Axes>"
      ]
     },
     "metadata": {},
     "output_type": "display_data"
    },
    {
     "data": {
      "image/png": "[encoded data removed]",
      "text/plain": [
       "<Figure size 640x480 with 2 Axes>"
      ]
     },
     "metadata": {},
     "output_type": "display_data"
    }
   ],
   "source": [
    "# Confusion Matrix\n",
    "cm = confusion_matrix(y_test, y_test_pred)\n",
    "cmp = confusion_matrix(y_train, y_train_p)\n",
    "ConfusionMatrixDisplay(cmp).plot()\n",
    "ConfusionMatrixDisplay(cm).plot()\n",
    "plt.show()"
   ]
  },
  {
   "cell_type": "code",
   "execution_count": null,
   "id": "eca40b4a",
   "metadata": {},
   "outputs": [],
   "source": [
    "\n"
   ]
  }
 ],
 "metadata": {
  "kernelspec": {
   "display_name": "Python 3 (ipykernel)",
   "language": "python",
   "name": "python3"
  },
  "language_info": {
   "codemirror_mode": {
    "name": "ipython",
    "version": 3
   },
   "file_extension": ".py",
   "mimetype": "text/x-python",
   "name": "python",
   "nbconvert_exporter": "python",
   "pygments_lexer": "ipython3",
   "version": "3.10.7"
  }
 },
 "nbformat": 4,
 "nbformat_minor": 5
}
